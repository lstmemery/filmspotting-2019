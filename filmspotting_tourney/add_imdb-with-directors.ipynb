{
 "cells": [
  {
   "cell_type": "code",
   "execution_count": 51,
   "metadata": {},
   "outputs": [],
   "source": [
    "import pandas as pd\n",
    "from sklearn.model_selection import cross_val_score, RepeatedKFold, cross_val_predict\n",
    "import numpy as np\n",
    "\n",
    "from xgboost import XGBRegressor"
   ]
  },
  {
   "cell_type": "code",
   "execution_count": 84,
   "metadata": {},
   "outputs": [],
   "source": [
    "train_x = pd.read_csv(\"../results/train_x.csv\")\n",
    "train_y = pd.read_csv(\"../results/train_y.csv\")\n",
    "imdb_info = pd.read_csv(\"../results/imdb_results.csv\")"
   ]
  },
  {
   "cell_type": "code",
   "execution_count": 85,
   "metadata": {},
   "outputs": [],
   "source": [
    "all_info = train_x.merge(imdb_info, left_on=\"player_1_name\", right_on=\"Movie\", how = \"left\")"
   ]
  },
  {
   "cell_type": "code",
   "execution_count": 86,
   "metadata": {},
   "outputs": [],
   "source": [
    "all_info = all_info.merge(imdb_info, left_on=\"player_2_name\", right_on=\"Movie\", suffixes = (\"_player1\", \"_player2\"), how=\"left\")"
   ]
  },
  {
   "cell_type": "code",
   "execution_count": 87,
   "metadata": {},
   "outputs": [],
   "source": [
    "all_info = all_info.drop(columns=[\"player_1_name\", \"player_2_name\", \"Movie_player1\", \"Movie_player2\", \"id_player1\", \"id_player2\"])"
   ]
  },
  {
   "cell_type": "code",
   "execution_count": 88,
   "metadata": {},
   "outputs": [
    {
     "data": {
      "text/plain": [
       "19.55040441678845"
      ]
     },
     "execution_count": 88,
     "metadata": {},
     "output_type": "execute_result"
    }
   ],
   "source": [
    "xgb_model = XGBRegressor(n_estimators=500)\n",
    "\n",
    "results = cross_val_score(xgb_model, \n",
    "                 X = all_info,\n",
    "                 y = train_y[\"plus_minus\"],\n",
    "                 scoring=\"neg_mean_squared_error\",\n",
    "                 cv=RepeatedKFold()\n",
    "               )\n",
    "np.sqrt(abs(results)).mean()"
   ]
  },
  {
   "cell_type": "code",
   "execution_count": 89,
   "metadata": {},
   "outputs": [],
   "source": [
    "results = cross_val_predict(xgb_model, \n",
    "                 X = all_info,\n",
    "                 y = train_y[\"plus_minus\"],\n",
    "                 cv=5\n",
    "               )"
   ]
  },
  {
   "cell_type": "code",
   "execution_count": 90,
   "metadata": {},
   "outputs": [],
   "source": [
    "train_y[\"predicted\"] = results"
   ]
  },
  {
   "cell_type": "code",
   "execution_count": 91,
   "metadata": {},
   "outputs": [],
   "source": [
    "train_y[\"correct\"] = np.sign(train_y[\"plus_minus\"]) * np.sign(train_y[\"predicted\"])"
   ]
  },
  {
   "cell_type": "code",
   "execution_count": 92,
   "metadata": {},
   "outputs": [],
   "source": [
    "train_y.loc[train_y[\"correct\"] == -1, :].to_csv(\"../results/mistakes1.2.csv\", index = False)"
   ]
  },
  {
   "cell_type": "code",
   "execution_count": 93,
   "metadata": {},
   "outputs": [],
   "source": [
    "train_y.to_csv(\"../results/gen_1.2_model.csv\", index = False)"
   ]
  },
  {
   "cell_type": "code",
   "execution_count": 94,
   "metadata": {},
   "outputs": [],
   "source": [
    "from eli5 import show_weights"
   ]
  },
  {
   "cell_type": "code",
   "execution_count": 99,
   "metadata": {},
   "outputs": [
    {
     "ename": "TypeError",
     "evalue": "'>=' not supported between instances of 'tuple' and 'int'",
     "output_type": "error",
     "traceback": [
      "\u001b[0;31m---------------------------------------------------------------------------\u001b[0m",
      "\u001b[0;31mTypeError\u001b[0m                                 Traceback (most recent call last)",
      "\u001b[0;32m<ipython-input-99-ab08566f7680>\u001b[0m in \u001b[0;36m<module>\u001b[0;34m\u001b[0m\n\u001b[1;32m      1\u001b[0m \u001b[0mxgb_model\u001b[0m\u001b[0;34m.\u001b[0m\u001b[0mfit\u001b[0m\u001b[0;34m(\u001b[0m\u001b[0mall_info\u001b[0m\u001b[0;34m,\u001b[0m \u001b[0mtrain_y\u001b[0m\u001b[0;34m[\u001b[0m\u001b[0;34m\"plus_minus\"\u001b[0m\u001b[0;34m]\u001b[0m\u001b[0;34m)\u001b[0m\u001b[0;34m\u001b[0m\u001b[0m\n\u001b[1;32m      2\u001b[0m \u001b[0;34m\u001b[0m\u001b[0m\n\u001b[0;32m----> 3\u001b[0;31m \u001b[0mshow_weights\u001b[0m\u001b[0;34m(\u001b[0m\u001b[0mxgb_model\u001b[0m\u001b[0;34m,\u001b[0m \u001b[0mtop\u001b[0m\u001b[0;34m=\u001b[0m\u001b[0;34m(\u001b[0m\u001b[0;36m5\u001b[0m\u001b[0;34m,\u001b[0m\u001b[0;36m5\u001b[0m\u001b[0;34m)\u001b[0m\u001b[0;34m)\u001b[0m\u001b[0;34m\u001b[0m\u001b[0m\n\u001b[0m",
      "\u001b[0;32m~/.local/share/virtualenvs/filmspotting-2019-VAg7pNyZ/lib/python3.6/site-packages/eli5/ipython.py\u001b[0m in \u001b[0;36mshow_weights\u001b[0;34m(estimator, **kwargs)\u001b[0m\n\u001b[1;32m    117\u001b[0m     \"\"\"\n\u001b[1;32m    118\u001b[0m     \u001b[0mformat_kwargs\u001b[0m\u001b[0;34m,\u001b[0m \u001b[0mexplain_kwargs\u001b[0m \u001b[0;34m=\u001b[0m \u001b[0m_split_kwargs\u001b[0m\u001b[0;34m(\u001b[0m\u001b[0mkwargs\u001b[0m\u001b[0;34m)\u001b[0m\u001b[0;34m\u001b[0m\u001b[0m\n\u001b[0;32m--> 119\u001b[0;31m     \u001b[0mexpl\u001b[0m \u001b[0;34m=\u001b[0m \u001b[0mexplain_weights\u001b[0m\u001b[0;34m(\u001b[0m\u001b[0mestimator\u001b[0m\u001b[0;34m,\u001b[0m \u001b[0;34m**\u001b[0m\u001b[0mexplain_kwargs\u001b[0m\u001b[0;34m)\u001b[0m\u001b[0;34m\u001b[0m\u001b[0m\n\u001b[0m\u001b[1;32m    120\u001b[0m     \u001b[0mhtml\u001b[0m \u001b[0;34m=\u001b[0m \u001b[0mformat_as_html\u001b[0m\u001b[0;34m(\u001b[0m\u001b[0mexpl\u001b[0m\u001b[0;34m,\u001b[0m \u001b[0;34m**\u001b[0m\u001b[0mformat_kwargs\u001b[0m\u001b[0;34m)\u001b[0m\u001b[0;34m\u001b[0m\u001b[0m\n\u001b[1;32m    121\u001b[0m     \u001b[0;32mreturn\u001b[0m \u001b[0mHTML\u001b[0m\u001b[0;34m(\u001b[0m\u001b[0mhtml\u001b[0m\u001b[0;34m)\u001b[0m\u001b[0;34m\u001b[0m\u001b[0m\n",
      "\u001b[0;32m~/.local/share/virtualenvs/filmspotting-2019-VAg7pNyZ/lib/python3.6/functools.py\u001b[0m in \u001b[0;36mwrapper\u001b[0;34m(*args, **kw)\u001b[0m\n\u001b[1;32m    801\u001b[0m \u001b[0;34m\u001b[0m\u001b[0m\n\u001b[1;32m    802\u001b[0m     \u001b[0;32mdef\u001b[0m \u001b[0mwrapper\u001b[0m\u001b[0;34m(\u001b[0m\u001b[0;34m*\u001b[0m\u001b[0margs\u001b[0m\u001b[0;34m,\u001b[0m \u001b[0;34m**\u001b[0m\u001b[0mkw\u001b[0m\u001b[0;34m)\u001b[0m\u001b[0;34m:\u001b[0m\u001b[0;34m\u001b[0m\u001b[0m\n\u001b[0;32m--> 803\u001b[0;31m         \u001b[0;32mreturn\u001b[0m \u001b[0mdispatch\u001b[0m\u001b[0;34m(\u001b[0m\u001b[0margs\u001b[0m\u001b[0;34m[\u001b[0m\u001b[0;36m0\u001b[0m\u001b[0;34m]\u001b[0m\u001b[0;34m.\u001b[0m\u001b[0m__class__\u001b[0m\u001b[0;34m)\u001b[0m\u001b[0;34m(\u001b[0m\u001b[0;34m*\u001b[0m\u001b[0margs\u001b[0m\u001b[0;34m,\u001b[0m \u001b[0;34m**\u001b[0m\u001b[0mkw\u001b[0m\u001b[0;34m)\u001b[0m\u001b[0;34m\u001b[0m\u001b[0m\n\u001b[0m\u001b[1;32m    804\u001b[0m \u001b[0;34m\u001b[0m\u001b[0m\n\u001b[1;32m    805\u001b[0m     \u001b[0mregistry\u001b[0m\u001b[0;34m[\u001b[0m\u001b[0mobject\u001b[0m\u001b[0;34m]\u001b[0m \u001b[0;34m=\u001b[0m \u001b[0mfunc\u001b[0m\u001b[0;34m\u001b[0m\u001b[0m\n",
      "\u001b[0;32m~/.local/share/virtualenvs/filmspotting-2019-VAg7pNyZ/lib/python3.6/site-packages/eli5/xgboost.py\u001b[0m in \u001b[0;36mexplain_weights_xgboost\u001b[0;34m(xgb, vec, top, target_names, targets, feature_names, feature_re, feature_filter, importance_type)\u001b[0m\n\u001b[1;32m     80\u001b[0m         \u001b[0mdescription\u001b[0m\u001b[0;34m=\u001b[0m\u001b[0mDESCRIPTION_XGBOOST\u001b[0m\u001b[0;34m,\u001b[0m\u001b[0;34m\u001b[0m\u001b[0m\n\u001b[1;32m     81\u001b[0m         \u001b[0mis_regression\u001b[0m\u001b[0;34m=\u001b[0m\u001b[0mis_regression\u001b[0m\u001b[0;34m,\u001b[0m\u001b[0;34m\u001b[0m\u001b[0m\n\u001b[0;32m---> 82\u001b[0;31m         \u001b[0mnum_features\u001b[0m\u001b[0;34m=\u001b[0m\u001b[0mcoef\u001b[0m\u001b[0;34m.\u001b[0m\u001b[0mshape\u001b[0m\u001b[0;34m[\u001b[0m\u001b[0;34m-\u001b[0m\u001b[0;36m1\u001b[0m\u001b[0;34m]\u001b[0m\u001b[0;34m,\u001b[0m\u001b[0;34m\u001b[0m\u001b[0m\n\u001b[0m\u001b[1;32m     83\u001b[0m     )\n\u001b[1;32m     84\u001b[0m \u001b[0;34m\u001b[0m\u001b[0m\n",
      "\u001b[0;32m~/.local/share/virtualenvs/filmspotting-2019-VAg7pNyZ/lib/python3.6/site-packages/eli5/_feature_importances.py\u001b[0m in \u001b[0;36mget_feature_importance_explanation\u001b[0;34m(estimator, vec, coef, feature_names, feature_filter, feature_re, top, description, is_regression, estimator_feature_names, num_features, coef_std)\u001b[0m\n\u001b[1;32m     38\u001b[0m     )\n\u001b[1;32m     39\u001b[0m     feature_importances = get_feature_importances_filtered(\n\u001b[0;32m---> 40\u001b[0;31m         coef, feature_names, flt_indices, top, coef_std)\n\u001b[0m\u001b[1;32m     41\u001b[0m     return Explanation(\n\u001b[1;32m     42\u001b[0m         \u001b[0mfeature_importances\u001b[0m\u001b[0;34m=\u001b[0m\u001b[0mfeature_importances\u001b[0m\u001b[0;34m,\u001b[0m\u001b[0;34m\u001b[0m\u001b[0m\n",
      "\u001b[0;32m~/.local/share/virtualenvs/filmspotting-2019-VAg7pNyZ/lib/python3.6/site-packages/eli5/_feature_importances.py\u001b[0m in \u001b[0;36mget_feature_importances_filtered\u001b[0;34m(coef, feature_names, flt_indices, top, coef_std)\u001b[0m\n\u001b[1;32m     13\u001b[0m             \u001b[0mcoef_std\u001b[0m \u001b[0;34m=\u001b[0m \u001b[0mcoef_std\u001b[0m\u001b[0;34m[\u001b[0m\u001b[0mflt_indices\u001b[0m\u001b[0;34m]\u001b[0m\u001b[0;34m\u001b[0m\u001b[0m\n\u001b[1;32m     14\u001b[0m \u001b[0;34m\u001b[0m\u001b[0m\n\u001b[0;32m---> 15\u001b[0;31m     \u001b[0mindices\u001b[0m \u001b[0;34m=\u001b[0m \u001b[0margsort_k_largest\u001b[0m\u001b[0;34m(\u001b[0m\u001b[0mcoef\u001b[0m\u001b[0;34m,\u001b[0m \u001b[0mtop\u001b[0m\u001b[0;34m)\u001b[0m\u001b[0;34m\u001b[0m\u001b[0m\n\u001b[0m\u001b[1;32m     16\u001b[0m     \u001b[0mnames\u001b[0m\u001b[0;34m,\u001b[0m \u001b[0mvalues\u001b[0m \u001b[0;34m=\u001b[0m \u001b[0mfeature_names\u001b[0m\u001b[0;34m[\u001b[0m\u001b[0mindices\u001b[0m\u001b[0;34m]\u001b[0m\u001b[0;34m,\u001b[0m \u001b[0mcoef\u001b[0m\u001b[0;34m[\u001b[0m\u001b[0mindices\u001b[0m\u001b[0;34m]\u001b[0m\u001b[0;34m\u001b[0m\u001b[0m\n\u001b[1;32m     17\u001b[0m     \u001b[0mstd\u001b[0m \u001b[0;34m=\u001b[0m \u001b[0;32mNone\u001b[0m \u001b[0;32mif\u001b[0m \u001b[0mcoef_std\u001b[0m \u001b[0;32mis\u001b[0m \u001b[0;32mNone\u001b[0m \u001b[0;32melse\u001b[0m \u001b[0mcoef_std\u001b[0m\u001b[0;34m[\u001b[0m\u001b[0mindices\u001b[0m\u001b[0;34m]\u001b[0m\u001b[0;34m\u001b[0m\u001b[0m\n",
      "\u001b[0;32m~/.local/share/virtualenvs/filmspotting-2019-VAg7pNyZ/lib/python3.6/site-packages/eli5/utils.py\u001b[0m in \u001b[0;36margsort_k_largest\u001b[0;34m(x, k)\u001b[0m\n\u001b[1;32m      8\u001b[0m     \u001b[0;32mif\u001b[0m \u001b[0mk\u001b[0m \u001b[0;34m==\u001b[0m \u001b[0;36m0\u001b[0m\u001b[0;34m:\u001b[0m\u001b[0;34m\u001b[0m\u001b[0m\n\u001b[1;32m      9\u001b[0m         \u001b[0;32mreturn\u001b[0m \u001b[0mnp\u001b[0m\u001b[0;34m.\u001b[0m\u001b[0marray\u001b[0m\u001b[0;34m(\u001b[0m\u001b[0;34m[\u001b[0m\u001b[0;34m]\u001b[0m\u001b[0;34m,\u001b[0m \u001b[0mdtype\u001b[0m\u001b[0;34m=\u001b[0m\u001b[0mnp\u001b[0m\u001b[0;34m.\u001b[0m\u001b[0mintp\u001b[0m\u001b[0;34m)\u001b[0m\u001b[0;34m\u001b[0m\u001b[0m\n\u001b[0;32m---> 10\u001b[0;31m     \u001b[0;32mif\u001b[0m \u001b[0mk\u001b[0m \u001b[0;32mis\u001b[0m \u001b[0;32mNone\u001b[0m \u001b[0;32mor\u001b[0m \u001b[0mk\u001b[0m \u001b[0;34m>=\u001b[0m \u001b[0mlen\u001b[0m\u001b[0;34m(\u001b[0m\u001b[0mx\u001b[0m\u001b[0;34m)\u001b[0m\u001b[0;34m:\u001b[0m\u001b[0;34m\u001b[0m\u001b[0m\n\u001b[0m\u001b[1;32m     11\u001b[0m         \u001b[0;32mreturn\u001b[0m \u001b[0mnp\u001b[0m\u001b[0;34m.\u001b[0m\u001b[0margsort\u001b[0m\u001b[0;34m(\u001b[0m\u001b[0mx\u001b[0m\u001b[0;34m)\u001b[0m\u001b[0;34m[\u001b[0m\u001b[0;34m:\u001b[0m\u001b[0;34m:\u001b[0m\u001b[0;34m-\u001b[0m\u001b[0;36m1\u001b[0m\u001b[0;34m]\u001b[0m\u001b[0;34m\u001b[0m\u001b[0m\n\u001b[1;32m     12\u001b[0m     \u001b[0mindices\u001b[0m \u001b[0;34m=\u001b[0m \u001b[0mnp\u001b[0m\u001b[0;34m.\u001b[0m\u001b[0margpartition\u001b[0m\u001b[0;34m(\u001b[0m\u001b[0mx\u001b[0m\u001b[0;34m,\u001b[0m \u001b[0;34m-\u001b[0m\u001b[0mk\u001b[0m\u001b[0;34m)\u001b[0m\u001b[0;34m[\u001b[0m\u001b[0;34m-\u001b[0m\u001b[0mk\u001b[0m\u001b[0;34m:\u001b[0m\u001b[0;34m]\u001b[0m\u001b[0;34m\u001b[0m\u001b[0m\n",
      "\u001b[0;31mTypeError\u001b[0m: '>=' not supported between instances of 'tuple' and 'int'"
     ]
    }
   ],
   "source": [
    "xgb_model.fit(all_info, train_y[\"plus_minus\"])\n",
    "\n",
    "show_weights(xgb_model, top=(5,5))"
   ]
  },
  {
   "cell_type": "code",
   "execution_count": 97,
   "metadata": {},
   "outputs": [
    {
     "data": {
      "text/plain": [
       "\u001b[0;31mSignature:\u001b[0m \u001b[0mshow_weights\u001b[0m\u001b[0;34m(\u001b[0m\u001b[0mestimator\u001b[0m\u001b[0;34m,\u001b[0m \u001b[0;34m**\u001b[0m\u001b[0mkwargs\u001b[0m\u001b[0;34m)\u001b[0m\u001b[0;34m\u001b[0m\u001b[0m\n",
       "\u001b[0;31mDocstring:\u001b[0m\n",
       "Return an explanation of estimator parameters (weights)\n",
       "as an IPython.display.HTML object. Use this function\n",
       "to show classifier weights in IPython.\n",
       "\n",
       ":func:`show_weights` accepts all\n",
       ":func:`eli5.explain_weights` arguments and all\n",
       ":func:`eli5.formatters.html.format_as_html`\n",
       "keyword arguments, so it is possible to get explanation and\n",
       "customize formatting in a single call.\n",
       "\n",
       "Parameters\n",
       "----------\n",
       "estimator : object\n",
       "    Estimator instance. This argument must be positional.\n",
       "\n",
       "top : int or (int, int) tuple, optional\n",
       "    Number of features to show. When ``top`` is int, ``top`` features with\n",
       "    a highest absolute values are shown. When it is (pos, neg) tuple,\n",
       "    no more than ``pos`` positive features and no more than ``neg``\n",
       "    negative features is shown. ``None`` value means no limit.\n",
       "\n",
       "    This argument may be supported or not, depending on estimator type.\n",
       "\n",
       "target_names : list[str] or {'old_name': 'new_name'} dict, optional\n",
       "    Names of targets or classes. This argument can be used to provide\n",
       "    human-readable class/target names for estimators which don't expose\n",
       "    clss names themselves. It can be also used to rename estimator-provided\n",
       "    classes before displaying them.\n",
       "\n",
       "    This argument may be supported or not, depending on estimator type.\n",
       "\n",
       "targets : list, optional\n",
       "    Order of class/target names to show. This argument can be also used\n",
       "    to show information only for a subset of classes. It should be a list\n",
       "    of class / target names which match either names provided by\n",
       "    an estimator or names defined in ``target_names`` parameter.\n",
       "\n",
       "    This argument may be supported or not, depending on estimator type.\n",
       "\n",
       "feature_names : list, optional\n",
       "    A list of feature names. It allows to specify feature\n",
       "    names when they are not provided by an estimator object.\n",
       "\n",
       "    This argument may be supported or not, depending on estimator type.\n",
       "\n",
       "feature_re : str, optional\n",
       "    Only feature names which match ``feature_re`` regex are shown\n",
       "    (more precisely, ``re.search(feature_re, x)`` is checked).\n",
       "\n",
       "feature_filter : Callable[[str], bool], optional\n",
       "    Only feature names for which ``feature_filter`` function returns True\n",
       "    are shown.\n",
       "\n",
       "show : List[str], optional\n",
       "    List of sections to show. Allowed values:\n",
       "\n",
       "    * 'targets' - per-target feature weights;\n",
       "    * 'transition_features' - transition features of a CRF model;\n",
       "    * 'feature_importances' - feature importances of a decision tree or\n",
       "      an ensemble-based estimator;\n",
       "    * 'decision_tree' - decision tree in a graphical form;\n",
       "    * 'method' - a string with explanation method;\n",
       "    * 'description' - description of explanation method and its caveats.\n",
       "\n",
       "    ``eli5.formatters.fields`` provides constants that cover common cases:\n",
       "    ``INFO`` (method and description), ``WEIGHTS`` (all the rest),\n",
       "    and ``ALL`` (all).\n",
       "\n",
       "horizontal_layout : bool\n",
       "    When True, feature weight tables are printed horizontally\n",
       "    (left to right); when False, feature weight tables are printed\n",
       "    vertically (top to down). Default is True.\n",
       "\n",
       "highlight_spaces : bool or None, optional\n",
       "    Whether to highlight spaces in feature names. This is useful if\n",
       "    you work with text and have ngram features which may include spaces\n",
       "    at left or right. Default is None, meaning that the value used\n",
       "    is set automatically based on vectorizer and feature values.\n",
       "\n",
       "include_styles : bool\n",
       "    Most styles are inline, but some are included separately in <style> tag;\n",
       "    you can omit them by passing ``include_styles=False``. Default is True.\n",
       "\n",
       "**kwargs: dict\n",
       "    Keyword arguments. All keyword arguments are passed to\n",
       "    concrete explain_weights... implementations.\n",
       "\n",
       "Returns\n",
       "-------\n",
       "IPython.display.HTML\n",
       "    The result is printed in IPython notebook as an HTML widget.\n",
       "    If you need to display several explanations as an output of a single\n",
       "    cell, or if you want to display it from a function then use\n",
       "    IPython.display.display::\n",
       "\n",
       "        from IPython.display import display\n",
       "        display(eli5.show_weights(clf1))\n",
       "        display(eli5.show_weights(clf2))\n",
       "\u001b[0;31mFile:\u001b[0m      ~/.local/share/virtualenvs/filmspotting-2019-VAg7pNyZ/lib/python3.6/site-packages/eli5/ipython.py\n",
       "\u001b[0;31mType:\u001b[0m      function\n"
      ]
     },
     "metadata": {},
     "output_type": "display_data"
    }
   ],
   "source": [
    "?show_weights"
   ]
  }
 ],
 "metadata": {
  "kernelspec": {
   "display_name": "Python 3",
   "language": "python",
   "name": "python3"
  },
  "language_info": {
   "codemirror_mode": {
    "name": "ipython",
    "version": 3
   },
   "file_extension": ".py",
   "mimetype": "text/x-python",
   "name": "python",
   "nbconvert_exporter": "python",
   "pygments_lexer": "ipython3",
   "version": "3.6.7"
  }
 },
 "nbformat": 4,
 "nbformat_minor": 2
}
