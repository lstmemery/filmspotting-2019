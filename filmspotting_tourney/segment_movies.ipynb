{
 "cells": [
  {
   "cell_type": "code",
   "execution_count": 50,
   "metadata": {},
   "outputs": [],
   "source": [
    "import pandas as pd\n",
    "from sklearn.model_selection import train_test_split, cross_val_score, RepeatedKFold\n",
    "import numpy as np\n",
    "\n",
    "from xgboost import XGBRegressor"
   ]
  },
  {
   "cell_type": "code",
   "execution_count": 12,
   "metadata": {},
   "outputs": [],
   "source": [
    "df = pd.read_csv(\"../results/all-matches-with-seeds.csv\")\n",
    "scores = df[\"match.scores_csv\"].str.split(\"-\", expand=True)"
   ]
  },
  {
   "cell_type": "code",
   "execution_count": 13,
   "metadata": {},
   "outputs": [],
   "source": [
    "df[\"plus_minus\"] = scores[0].astype(int) - scores[1].astype(int)"
   ]
  },
  {
   "cell_type": "code",
   "execution_count": 20,
   "metadata": {},
   "outputs": [],
   "source": [
    "scores = df[[\"player_1_name\", \"player_2_name\", \"plus_minus\"]]"
   ]
  },
  {
   "cell_type": "code",
   "execution_count": 25,
   "metadata": {},
   "outputs": [],
   "source": [
    "info = df.drop(columns=[\"plus_minus\", \"match.scores_csv\"])"
   ]
  },
  {
   "cell_type": "code",
   "execution_count": 29,
   "metadata": {},
   "outputs": [],
   "source": [
    "(train_x, test_x,\n",
    " train_y, test_y) = train_test_split(info, scores, test_size=0.2, random_state=0)"
   ]
  },
  {
   "cell_type": "code",
   "execution_count": 36,
   "metadata": {},
   "outputs": [],
   "source": [
    "clean_train_x = train_x.drop(columns=[\"player_1_name\", \"player_2_name\"])"
   ]
  },
  {
   "cell_type": "code",
   "execution_count": 46,
   "metadata": {},
   "outputs": [],
   "source": [
    "xgb_model = XGBRegressor()\n",
    "\n",
    "results = cross_val_score(xgb_model, \n",
    "                 X = clean_train_x,\n",
    "                 y = train_y[\"plus_minus\"],\n",
    "                 scoring=\"neg_mean_squared_error\",\n",
    "                 cv=RepeatedKFold()\n",
    "               )"
   ]
  },
  {
   "cell_type": "code",
   "execution_count": 57,
   "metadata": {},
   "outputs": [
    {
     "data": {
      "text/plain": [
       "22.15326713943961"
      ]
     },
     "execution_count": 57,
     "metadata": {},
     "output_type": "execute_result"
    }
   ],
   "source": [
    "np.sqrt(abs(results)).mean()\n",
    "## A long way to go..."
   ]
  },
  {
   "cell_type": "code",
   "execution_count": 59,
   "metadata": {},
   "outputs": [],
   "source": [
    "train_x.to_csv(\"../results/train_x.csv\", index = False)\n",
    "test_x.to_csv(\"../results/test_x.csv\", index = False)\n",
    "train_y.to_csv(\"../results/train_y.csv\", index = False)\n",
    "test_y.to_csv(\"../results/test_y.csv\", index = False)"
   ]
  }
 ],
 "metadata": {
  "kernelspec": {
   "display_name": "Python 3",
   "language": "python",
   "name": "python3"
  },
  "language_info": {
   "codemirror_mode": {
    "name": "ipython",
    "version": 3
   },
   "file_extension": ".py",
   "mimetype": "text/x-python",
   "name": "python",
   "nbconvert_exporter": "python",
   "pygments_lexer": "ipython3",
   "version": "3.6.7"
  }
 },
 "nbformat": 4,
 "nbformat_minor": 2
}
