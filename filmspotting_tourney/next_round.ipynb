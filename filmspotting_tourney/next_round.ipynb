{
 "cells": [
  {
   "cell_type": "code",
   "execution_count": 1,
   "metadata": {},
   "outputs": [],
   "source": [
    "import csv"
   ]
  },
  {
   "cell_type": "code",
   "execution_count": 7,
   "metadata": {},
   "outputs": [],
   "source": [
    "with open(\"../results/2019_predictions.csv\", \"r\") as csvfile:\n",
    "    reader = csv.DictReader(csvfile)\n",
    "    next_round = []\n",
    "    new_row = {}\n",
    "    for index, row in enumerate(reader):\n",
    "        if index % 2 == 0:\n",
    "            if int(row[\"ensembled_predictions\"]) > 0:\n",
    "                new_row[\"player_1_name\"] = row[\"player_1_name\"]\n",
    "                new_row[\"player_1_seed\"] = row[\"player_1_seed\"]\n",
    "            else:\n",
    "                new_row[\"player_1_name\"] = row[\"player_2_name\"]\n",
    "                new_row[\"player_1_seed\"] = row[\"player_2_seed\"]\n",
    "        else:\n",
    "            if int(row[\"ensembled_predictions\"]) > 0:\n",
    "                new_row[\"player_2_name\"] = row[\"player_1_name\"]\n",
    "                new_row[\"player_2_seed\"] = row[\"player_1_seed\"]\n",
    "            else:\n",
    "                new_row[\"player_2_name\"] = row[\"player_2_name\"]\n",
    "                new_row[\"player_2_seed\"] = row[\"player_2_seed\"]\n",
    "            next_round.append(new_row)\n",
    "            new_row = {}"
   ]
  },
  {
   "cell_type": "code",
   "execution_count": 9,
   "metadata": {},
   "outputs": [],
   "source": [
    "with open(\"../results/2019_predictions_round_2.csv\", \"w+\") as csvfile:\n",
    "    fieldnames = ['player_1_name', 'player_1_seed', 'player_2_name', 'player_2_seed']\n",
    "    writer = csv.DictWriter(csvfile, fieldnames=fieldnames)\n",
    "    writer.writeheader()\n",
    "    \n",
    "    for row in next_round:\n",
    "        writer.writerow(row)"
   ]
  },
  {
   "cell_type": "code",
   "execution_count": 10,
   "metadata": {},
   "outputs": [],
   "source": [
    "with open(\"../results/2019_predictions_round_2.csv\", \"r\") as csvfile:\n",
    "    reader = csv.DictReader(csvfile)\n",
    "    next_round = []\n",
    "    new_row = {}\n",
    "    for index, row in enumerate(reader):\n",
    "        if index % 2 == 0:\n",
    "            if int(row[\"ensembled_predictions\"]) > 0:\n",
    "                new_row[\"player_1_name\"] = row[\"player_1_name\"]\n",
    "                new_row[\"player_1_seed\"] = row[\"player_1_seed\"]\n",
    "            else:\n",
    "                new_row[\"player_1_name\"] = row[\"player_2_name\"]\n",
    "                new_row[\"player_1_seed\"] = row[\"player_2_seed\"]\n",
    "        else:\n",
    "            if int(row[\"ensembled_predictions\"]) > 0:\n",
    "                new_row[\"player_2_name\"] = row[\"player_1_name\"]\n",
    "                new_row[\"player_2_seed\"] = row[\"player_1_seed\"]\n",
    "            else:\n",
    "                new_row[\"player_2_name\"] = row[\"player_2_name\"]\n",
    "                new_row[\"player_2_seed\"] = row[\"player_2_seed\"]\n",
    "            next_round.append(new_row)\n",
    "            new_row = {}"
   ]
  },
  {
   "cell_type": "code",
   "execution_count": 12,
   "metadata": {},
   "outputs": [],
   "source": [
    "with open(\"../results/2019_round_3.csv\", \"w+\") as csvfile:\n",
    "    fieldnames = ['player_1_name', 'player_1_seed', 'player_2_name', 'player_2_seed']\n",
    "    writer = csv.DictWriter(csvfile, fieldnames=fieldnames)\n",
    "    writer.writeheader()\n",
    "    \n",
    "    for row in next_round:\n",
    "        writer.writerow(row)"
   ]
  },
  {
   "cell_type": "code",
   "execution_count": 13,
   "metadata": {},
   "outputs": [],
   "source": [
    "with open(\"../results/2019_predictions_round_3.csv\", \"r\") as csvfile:\n",
    "    reader = csv.DictReader(csvfile)\n",
    "    next_round = []\n",
    "    new_row = {}\n",
    "    for index, row in enumerate(reader):\n",
    "        if index % 2 == 0:\n",
    "            if int(row[\"ensembled_predictions\"]) > 0:\n",
    "                new_row[\"player_1_name\"] = row[\"player_1_name\"]\n",
    "                new_row[\"player_1_seed\"] = row[\"player_1_seed\"]\n",
    "            else:\n",
    "                new_row[\"player_1_name\"] = row[\"player_2_name\"]\n",
    "                new_row[\"player_1_seed\"] = row[\"player_2_seed\"]\n",
    "        else:\n",
    "            if int(row[\"ensembled_predictions\"]) > 0:\n",
    "                new_row[\"player_2_name\"] = row[\"player_1_name\"]\n",
    "                new_row[\"player_2_seed\"] = row[\"player_1_seed\"]\n",
    "            else:\n",
    "                new_row[\"player_2_name\"] = row[\"player_2_name\"]\n",
    "                new_row[\"player_2_seed\"] = row[\"player_2_seed\"]\n",
    "            next_round.append(new_row)\n",
    "            new_row = {}"
   ]
  },
  {
   "cell_type": "code",
   "execution_count": 14,
   "metadata": {},
   "outputs": [],
   "source": [
    "with open(\"../results/2019_round_4.csv\", \"w+\") as csvfile:\n",
    "    fieldnames = ['player_1_name', 'player_1_seed', 'player_2_name', 'player_2_seed']\n",
    "    writer = csv.DictWriter(csvfile, fieldnames=fieldnames)\n",
    "    writer.writeheader()\n",
    "    \n",
    "    for row in next_round:\n",
    "        writer.writerow(row)"
   ]
  },
  {
   "cell_type": "code",
   "execution_count": 15,
   "metadata": {},
   "outputs": [],
   "source": [
    "with open(\"../results/2019_predictions_round_4.csv\", \"r\") as csvfile:\n",
    "    reader = csv.DictReader(csvfile)\n",
    "    next_round = []\n",
    "    new_row = {}\n",
    "    for index, row in enumerate(reader):\n",
    "        if index % 2 == 0:\n",
    "            if int(row[\"ensembled_predictions\"]) > 0:\n",
    "                new_row[\"player_1_name\"] = row[\"player_1_name\"]\n",
    "                new_row[\"player_1_seed\"] = row[\"player_1_seed\"]\n",
    "            else:\n",
    "                new_row[\"player_1_name\"] = row[\"player_2_name\"]\n",
    "                new_row[\"player_1_seed\"] = row[\"player_2_seed\"]\n",
    "        else:\n",
    "            if int(row[\"ensembled_predictions\"]) > 0:\n",
    "                new_row[\"player_2_name\"] = row[\"player_1_name\"]\n",
    "                new_row[\"player_2_seed\"] = row[\"player_1_seed\"]\n",
    "            else:\n",
    "                new_row[\"player_2_name\"] = row[\"player_2_name\"]\n",
    "                new_row[\"player_2_seed\"] = row[\"player_2_seed\"]\n",
    "            next_round.append(new_row)\n",
    "            new_row = {}"
   ]
  },
  {
   "cell_type": "code",
   "execution_count": 16,
   "metadata": {},
   "outputs": [],
   "source": [
    "with open(\"../results/2019_round_5.csv\", \"w+\") as csvfile:\n",
    "    fieldnames = ['player_1_name', 'player_1_seed', 'player_2_name', 'player_2_seed']\n",
    "    writer = csv.DictWriter(csvfile, fieldnames=fieldnames)\n",
    "    writer.writeheader()\n",
    "    \n",
    "    for row in next_round:\n",
    "        writer.writerow(row)"
   ]
  },
  {
   "cell_type": "code",
   "execution_count": 17,
   "metadata": {},
   "outputs": [],
   "source": [
    "with open(\"../results/2019_predictions_round_5.csv\", \"r\") as csvfile:\n",
    "    reader = csv.DictReader(csvfile)\n",
    "    next_round = []\n",
    "    new_row = {}\n",
    "    for index, row in enumerate(reader):\n",
    "        if index % 2 == 0:\n",
    "            if int(row[\"ensembled_predictions\"]) > 0:\n",
    "                new_row[\"player_1_name\"] = row[\"player_1_name\"]\n",
    "                new_row[\"player_1_seed\"] = row[\"player_1_seed\"]\n",
    "            else:\n",
    "                new_row[\"player_1_name\"] = row[\"player_2_name\"]\n",
    "                new_row[\"player_1_seed\"] = row[\"player_2_seed\"]\n",
    "        else:\n",
    "            if int(row[\"ensembled_predictions\"]) > 0:\n",
    "                new_row[\"player_2_name\"] = row[\"player_1_name\"]\n",
    "                new_row[\"player_2_seed\"] = row[\"player_1_seed\"]\n",
    "            else:\n",
    "                new_row[\"player_2_name\"] = row[\"player_2_name\"]\n",
    "                new_row[\"player_2_seed\"] = row[\"player_2_seed\"]\n",
    "            next_round.append(new_row)\n",
    "            new_row = {}\n",
    "            \n",
    "with open(\"../results/2019_round_6.csv\", \"w+\") as csvfile:\n",
    "    fieldnames = ['player_1_name', 'player_1_seed', 'player_2_name', 'player_2_seed']\n",
    "    writer = csv.DictWriter(csvfile, fieldnames=fieldnames)\n",
    "    writer.writeheader()\n",
    "    \n",
    "    for row in next_round:\n",
    "        writer.writerow(row)"
   ]
  }
 ],
 "metadata": {
  "kernelspec": {
   "display_name": "Python 3",
   "language": "python",
   "name": "python3"
  },
  "language_info": {
   "codemirror_mode": {
    "name": "ipython",
    "version": 3
   },
   "file_extension": ".py",
   "mimetype": "text/x-python",
   "name": "python",
   "nbconvert_exporter": "python",
   "pygments_lexer": "ipython3",
   "version": "3.6.7"
  }
 },
 "nbformat": 4,
 "nbformat_minor": 2
}
