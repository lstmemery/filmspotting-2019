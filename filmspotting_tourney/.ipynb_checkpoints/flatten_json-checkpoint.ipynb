{
 "cells": [
  {
   "cell_type": "code",
   "execution_count": 48,
   "metadata": {},
   "outputs": [],
   "source": [
    "import pandas as pd"
   ]
  },
  {
   "cell_type": "code",
   "execution_count": 49,
   "metadata": {},
   "outputs": [],
   "source": [
    "df = pd.read_json(\"../data/madness2018.json\")"
   ]
  },
  {
   "cell_type": "code",
   "execution_count": 50,
   "metadata": {},
   "outputs": [],
   "source": [
    "df1 = pd.io.json.json_normalize(json.load(open(\"data/madness2018.json\")))\n",
    "df2 = pd.io.json.json_normalize(json.load(open(\"data/fsmadness2017.json\")))"
   ]
  },
  {
   "cell_type": "code",
   "execution_count": 51,
   "metadata": {},
   "outputs": [],
   "source": [
    "matches1 = pd.io.json.json_normalize(df1[\"tournament.matches\"][0])\n",
    "matches2 = pd.io.json.json_normalize(df2[\"tournament.matches\"][0])\n",
    "matches = matches1.append(matches2)"
   ]
  },
  {
   "cell_type": "code",
   "execution_count": 52,
   "metadata": {},
   "outputs": [],
   "source": [
    "participants1 = pd.io.json.json_normalize(df1[\"tournament.participants\"][0])\n",
    "participants2 = pd.io.json.json_normalize(df2[\"tournament.participants\"][0])\n",
    "participants = participants1.append(participants2)"
   ]
  },
  {
   "cell_type": "code",
   "execution_count": 53,
   "metadata": {},
   "outputs": [],
   "source": [
    "matches.to_csv(\"../results/all-matches.csv\", index=False)"
   ]
  },
  {
   "cell_type": "code",
   "execution_count": 54,
   "metadata": {},
   "outputs": [],
   "source": [
    "participants.to_csv(\"../results/all-participants.csv\", index=False)"
   ]
  },
  {
   "cell_type": "code",
   "execution_count": 55,
   "metadata": {},
   "outputs": [],
   "source": [
    "matches = matches[[\"match.player1_id\", \"match.player2_id\", \"match.scores_csv\"]]"
   ]
  },
  {
   "cell_type": "code",
   "execution_count": 56,
   "metadata": {},
   "outputs": [],
   "source": [
    "participants = participants[[\"participant.id\", \"participant.name\", \"participant.seed\"]]"
   ]
  },
  {
   "cell_type": "code",
   "execution_count": 57,
   "metadata": {},
   "outputs": [],
   "source": [
    "player1_joined = matches.merge(participants, left_on = \"match.player1_id\", right_on=\"participant.id\")\n",
    "player1_joined = player1_joined[[\"participant.name\", \"participant.seed\", \"match.scores_csv\", \"match.player2_id\"]]\n",
    "player1_joined = player1_joined.rename(columns = {\"participant.name\": \"player_1_name\",\n",
    "                                 \"participant.seed\": \"player_1_seed\"})"
   ]
  },
  {
   "cell_type": "code",
   "execution_count": 58,
   "metadata": {},
   "outputs": [],
   "source": [
    "all_matches = player1_joined.merge(participants, left_on = \"match.player2_id\", right_on=\"participant.id\")\n",
    "all_matches = all_matches[[\"player_1_name\", \"player_1_seed\", \"participant.name\", \"participant.seed\", \"match.scores_csv\"]]\n",
    "all_matches = all_matches.rename(columns = {\"participant.name\": \"player_2_name\",\n",
    "                                 \"participant.seed\": \"player_2_seed\"})"
   ]
  },
  {
   "cell_type": "code",
   "execution_count": 59,
   "metadata": {},
   "outputs": [],
   "source": [
    "all_matches.to_csv(\"../results/all-matches-with-seeds.csv\", index=False)"
   ]
  },
  {
   "cell_type": "code",
   "execution_count": null,
   "metadata": {},
   "outputs": [],
   "source": []
  }
 ],
 "metadata": {
  "kernelspec": {
   "display_name": "Python 3",
   "language": "python",
   "name": "python3"
  },
  "language_info": {
   "codemirror_mode": {
    "name": "ipython",
    "version": 3
   },
   "file_extension": ".py",
   "mimetype": "text/x-python",
   "name": "python",
   "nbconvert_exporter": "python",
   "pygments_lexer": "ipython3",
   "version": "3.6.7"
  }
 },
 "nbformat": 4,
 "nbformat_minor": 2
}
