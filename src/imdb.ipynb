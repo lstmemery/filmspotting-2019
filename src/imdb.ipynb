{
 "cells": [
  {
   "cell_type": "code",
   "execution_count": 46,
   "metadata": {},
   "outputs": [],
   "source": [
    "from imdb import IMDb\n",
    "import pandas as pd"
   ]
  },
  {
   "cell_type": "code",
   "execution_count": 2,
   "metadata": {},
   "outputs": [],
   "source": [
    "ia = IMDb()"
   ]
  },
  {
   "cell_type": "code",
   "execution_count": 5,
   "metadata": {},
   "outputs": [],
   "source": [
    "matrix_list = ia.search_movie(\"The Matrix\")"
   ]
  },
  {
   "cell_type": "code",
   "execution_count": 14,
   "metadata": {},
   "outputs": [],
   "source": [
    "ia.update(matrix_list[0])"
   ]
  },
  {
   "cell_type": "code",
   "execution_count": 24,
   "metadata": {},
   "outputs": [
    {
     "data": {
      "text/plain": [
       "1999"
      ]
     },
     "execution_count": 24,
     "metadata": {},
     "output_type": "execute_result"
    }
   ],
   "source": [
    "matrix_list[0]['year']"
   ]
  },
  {
   "cell_type": "code",
   "execution_count": 25,
   "metadata": {},
   "outputs": [
    {
     "data": {
      "text/plain": [
       "['Action', 'Sci-Fi']"
      ]
     },
     "execution_count": 25,
     "metadata": {},
     "output_type": "execute_result"
    }
   ],
   "source": [
    "matrix_list[0][\"genres\"]"
   ]
  },
  {
   "cell_type": "code",
   "execution_count": 35,
   "metadata": {},
   "outputs": [
    {
     "data": {
      "text/plain": [
       "'0133093'"
      ]
     },
     "execution_count": 35,
     "metadata": {},
     "output_type": "execute_result"
    }
   ],
   "source": [
    "matrix_list[0].getID()"
   ]
  },
  {
   "cell_type": "code",
   "execution_count": 36,
   "metadata": {},
   "outputs": [
    {
     "data": {
      "text/plain": [
       "['136']"
      ]
     },
     "execution_count": 36,
     "metadata": {},
     "output_type": "execute_result"
    }
   ],
   "source": [
    "matrix_list[0][\"runtimes\"]"
   ]
  },
  {
   "cell_type": "code",
   "execution_count": 42,
   "metadata": {},
   "outputs": [],
   "source": [
    "def get_imdb(movie_name, ia):\n",
    "    movie_list = ia.search_movie(movie_name)\n",
    "    movie = movie_list[0]\n",
    "    ia.update(movie) \n",
    "    print(movie, \" - \", movie[\"year\"])\n",
    "    return movie"
   ]
  },
  {
   "cell_type": "code",
   "execution_count": 44,
   "metadata": {},
   "outputs": [
    {
     "name": "stdout",
     "output_type": "stream",
     "text": [
      "Pulp Fiction 1994\n"
     ]
    }
   ],
   "source": [
    "pulp_fiction = get_imdb(\"Pulp Fiction\", ia)"
   ]
  },
  {
   "cell_type": "code",
   "execution_count": 47,
   "metadata": {},
   "outputs": [],
   "source": [
    "df = pd.read_csv(\"../results/all-matches-with-seeds.csv\")"
   ]
  },
  {
   "cell_type": "code",
   "execution_count": 59,
   "metadata": {},
   "outputs": [],
   "source": [
    "all_movies = df[\"player_1_name\"].append(df[\"player_2_name\"]).unique()"
   ]
  },
  {
   "cell_type": "code",
   "execution_count": 64,
   "metadata": {},
   "outputs": [],
   "source": [
    "all_movies = pd.DataFrame({\"Movie\": all_movies})"
   ]
  },
  {
   "cell_type": "code",
   "execution_count": 73,
   "metadata": {},
   "outputs": [],
   "source": [
    "# Remove Young Frankenstein\n",
    "all_movies[\"Movie\"] = all_movies[\"Movie\"].apply(lambda x: x.split(\" / \")[0])"
   ]
  },
  {
   "cell_type": "code",
   "execution_count": 75,
   "metadata": {},
   "outputs": [
    {
     "name": "stdout",
     "output_type": "stream",
     "text": [
      "Pulp Fiction 1994\n",
      "Out of Sight 1998\n",
      "Goodfellas 1990\n",
      "Toy Story 1995\n",
      "Schindler's List 1993\n",
      "Fight Club 1999\n",
      "Chungking Express 1994\n",
      "Barton Fink 1991\n",
      "Jackie Brown 1997\n",
      "The Silence of the Lambs 1991\n",
      "Heat 1995\n",
      "Boogie Nights 1997\n",
      "Terminator 2: Judgment Day 1991\n",
      "Dazed and Confused 1993\n",
      "Malcolm X 1992\n",
      "The Big Lebowski 1998\n",
      "Groundhog Day 1993\n",
      "Miller's Crossing 1990\n",
      "Magnolia 1999\n",
      "Unforgiven 1992\n",
      "Being John Malkovich 1999\n",
      "Trainspotting 1996\n",
      "The Matrix 1999\n",
      "Hoop Dreams 1994\n",
      "Fargo 2014\n",
      "L.A. Confidential 1997\n",
      "Before Sunrise 1995\n",
      "Eyes Wide Shut 1999\n",
      "Rushmore 1998\n",
      "Reservoir Dogs 1992\n",
      "The Shawshank Redemption 1994\n",
      "Se7en 1995\n",
      "The Godfather 1972\n",
      "The Apartment 1960\n",
      "Taxi Driver 1976\n",
      "Citizen Kane 1941\n",
      "The Godfather: Part II 1974\n",
      "Alien 1979\n",
      "Mulholland Drive 2001\n",
      "Casablanca 1942\n",
      "Blue Velvet 1986\n",
      "Chinatown 1974\n",
      "Jaws 1975\n",
      "Raiders of the Lost Ark 1981\n",
      "2001: A Space Odyssey 1968\n",
      "Raging Bull 1980\n",
      "Apocalypse Now 1979\n",
      "Do the Right Thing 1989\n",
      "Back to the Future 1985\n",
      "Star Wars 1977\n",
      "One Flew Over the Cuckoo's Nest 1975\n",
      "Grave of the Fireflies 1988\n",
      "All the President's Men 1976\n",
      "Star Wars: Episode V - The Empire Strikes Back 1980\n",
      "Singin' in the Rain 1952\n",
      "Vertigo 1958\n",
      "The Shining 1980\n",
      "Annie Hall 1977\n",
      "Eternal Sunshine of the Spotless Mind 2004\n",
      "Wild at Heart 1990\n",
      "Saving Private Ryan 1998\n",
      "The Sixth Sense 1999\n",
      "The Iron Giant 1999\n",
      "Safe 2018\n",
      "Léon: The Professional 1994\n",
      "My Own Private Idaho 1991\n",
      "Princess Mononoke 1997\n",
      "Close-Up 1990\n",
      "The Lion King 2019\n",
      "JFK 1991\n",
      "The Player 1992\n",
      "Naked 1993\n",
      "Three Colors: Blue 1993\n",
      "The Truman Show 1998\n",
      "Edward Scissorhands 1990\n",
      "There's Something About Mary 1998\n",
      "Jurassic Park 1993\n",
      "All About My Mother 1999\n",
      "Office Space 1999\n",
      "Metropolitan 1990\n",
      "Clueless 1995\n",
      "The Blair Witch Project 1999\n",
      "The Thin Red Line 1998\n",
      "Dead Man 1995\n",
      "Glengarry Glen Ross 1992\n",
      "The Insider 1999\n",
      "The Piano 1993\n",
      "The Sweet Hereafter 1997\n",
      "The Usual Suspects 1995\n",
      "Boyz n the Hood 1991\n",
      "Starship Troopers 1997\n",
      "Young Frankenstein 1974\n",
      "Before Sunset 2004\n",
      "The Tree of Life 2011\n",
      "Midnight Run 1988\n",
      "The Royal Tenenbaums 2001\n",
      "The Red Shoes 1948\n",
      "Born on the Fourth of July 1989\n",
      "Die Hard 1988\n",
      "Batman 1989\n",
      "The Exorcist 1973\n",
      "To Kill a Mockingbird 1962\n",
      "Dog Day Afternoon 1975\n",
      "Punch-Drunk Love 2002\n",
      "In America 2002\n",
      "The Breakfast Club 1985\n",
      "Close Encounters of the Third Kind 1977\n",
      "The Master 2012\n",
      "Cool Hand Luke 1967\n",
      "Rio Bravo 1959\n",
      "The Evil Dead 1981\n",
      "Pather Panchali 1955\n",
      "A Nightmare on Elm Street 1984\n",
      "Au Hasard Balthazar 1966\n",
      "Say Anything... 1989\n",
      "The Wizard of Oz 1939\n",
      "Dead Poets Society 1989\n",
      "The Umbrellas of Cherbourg 1964\n"
     ]
    }
   ],
   "source": [
    "all_movies[\"imdb\"] = all_movies[\"Movie\"].apply(lambda x: get_imdb(x, ia))"
   ]
  },
  {
   "cell_type": "code",
   "execution_count": 82,
   "metadata": {},
   "outputs": [],
   "source": [
    "# Three mistakes: Lion King, Safe, Fargo\n",
    "import pickle\n",
    "\n",
    "with open(\"../results/imdb_list.pkl\", \"wb+\") as imdb_list:\n",
    "    pickle.dump(all_movies[\"imdb\"].tolist(), imdb_list)\n"
   ]
  },
  {
   "cell_type": "code",
   "execution_count": 117,
   "metadata": {},
   "outputs": [
    {
     "data": {
      "text/plain": [
       "'Pulp Fiction'"
      ]
     },
     "execution_count": 117,
     "metadata": {},
     "output_type": "execute_result"
    }
   ],
   "source": [
    "imdbs = all_movies[\"imdb\"].tolist()\n",
    "imdbs[0][\"title\"]"
   ]
  },
  {
   "cell_type": "code",
   "execution_count": 119,
   "metadata": {},
   "outputs": [
    {
     "name": "stdout",
     "output_type": "stream",
     "text": [
      "Fargo 24\n",
      "Safe 63\n",
      "The Lion King 68\n"
     ]
    }
   ],
   "source": [
    "for index, imdb in enumerate(imdbs):\n",
    "    if imdb[\"title\"] in (\"The Lion King\", \"Safe\", \"Fargo\"):\n",
    "        print(imdb, index)"
   ]
  },
  {
   "cell_type": "code",
   "execution_count": 120,
   "metadata": {},
   "outputs": [
    {
     "name": "stdout",
     "output_type": "stream",
     "text": [
      "118\n",
      "115\n"
     ]
    }
   ],
   "source": [
    "print(len(imdbs))\n",
    "\n",
    "imdbs = [imdb for imdb in imdbs if imdb[\"title\"] not in (\"The Lion King\", \"Safe\", \"Fargo\")]\n",
    "\n",
    "print(len(imdbs))"
   ]
  },
  {
   "cell_type": "code",
   "execution_count": 122,
   "metadata": {},
   "outputs": [],
   "source": [
    "fargo = ia.search_movie(\"Fargo\")[1]\n",
    "ia.update(fargo)\n",
    "imdbs.insert(24, fargo)"
   ]
  },
  {
   "cell_type": "code",
   "execution_count": 123,
   "metadata": {},
   "outputs": [],
   "source": [
    "safe = ia.search_movie(\"Safe\")[2]\n",
    "ia.update(safe)\n",
    "imdbs.insert(63, safe)"
   ]
  },
  {
   "cell_type": "code",
   "execution_count": 124,
   "metadata": {},
   "outputs": [],
   "source": [
    "lion_king = ia.search_movie(\"The Lion King\")[1]\n",
    "ia.update(lion_king)\n",
    "imdbs.insert(68, lion_king)"
   ]
  },
  {
   "cell_type": "code",
   "execution_count": 125,
   "metadata": {},
   "outputs": [
    {
     "name": "stdout",
     "output_type": "stream",
     "text": [
      "Fargo 24\n",
      "Safe 63\n",
      "The Lion King 68\n"
     ]
    }
   ],
   "source": [
    "for index, imdb in enumerate(imdbs):\n",
    "    if imdb[\"title\"] in (\"The Lion King\", \"Safe\", \"Fargo\"):\n",
    "        print(imdb, index)"
   ]
  },
  {
   "cell_type": "code",
   "execution_count": 205,
   "metadata": {},
   "outputs": [],
   "source": [
    "with open(\"../results/imdb_list.pkl\", \"wb+\") as imdb_list:\n",
    "    pickle.dump(imdbs, imdb_list)"
   ]
  },
  {
   "cell_type": "code",
   "execution_count": 126,
   "metadata": {},
   "outputs": [],
   "source": [
    "imdb_ids = [imdb.getID() for imdb in imdbs]"
   ]
  },
  {
   "cell_type": "code",
   "execution_count": 127,
   "metadata": {},
   "outputs": [],
   "source": [
    "imdb_years = [imdb[\"year\"] for imdb in imdbs]"
   ]
  },
  {
   "cell_type": "code",
   "execution_count": 128,
   "metadata": {},
   "outputs": [],
   "source": [
    "imdb_runtimes = [imdb[\"runtimes\"][0] for imdb in imdbs]"
   ]
  },
  {
   "cell_type": "code",
   "execution_count": 129,
   "metadata": {},
   "outputs": [],
   "source": [
    "from sklearn.preprocessing import MultiLabelBinarizer\n",
    "binner = MultiLabelBinarizer()"
   ]
  },
  {
   "cell_type": "code",
   "execution_count": 210,
   "metadata": {},
   "outputs": [],
   "source": [
    "imdb_country_codes = pd.DataFrame(binner.fit_transform([imdb[\"country codes\"] for imdb in imdbs]),\n",
    "            columns=[f\"cc.{class_}\" for class_ in binner.classes_])"
   ]
  },
  {
   "cell_type": "code",
   "execution_count": 214,
   "metadata": {},
   "outputs": [],
   "source": [
    "imdb_language_codes = pd.DataFrame(binner.fit_transform([imdb[\"language codes\"] for imdb in imdbs]),\n",
    "            columns=[f\"lc.{class_}\" for class_ in binner.classes_])"
   ]
  },
  {
   "cell_type": "code",
   "execution_count": 221,
   "metadata": {},
   "outputs": [],
   "source": [
    "imdb_colors = [1 if imdb[\"color info\"][0].split(\"::\")[0] == \"Color\" else 0 for imdb in imdbs]"
   ]
  },
  {
   "cell_type": "code",
   "execution_count": 196,
   "metadata": {},
   "outputs": [],
   "source": [
    "imdb_certificates = []\n",
    "for imdb in imdbs:\n",
    "    for certificate in imdb[\"certificate\"]:\n",
    "        if \"United States\" in certificate and \"TV\" not in certificate:\n",
    "            imdb_certificates.append(certificate.split(\":\")[1])\n",
    "            break"
   ]
  },
  {
   "cell_type": "code",
   "execution_count": 199,
   "metadata": {},
   "outputs": [],
   "source": [
    "imdb_rating = [imdb[\"rating\"] for imdb in imdbs]"
   ]
  },
  {
   "cell_type": "code",
   "execution_count": 201,
   "metadata": {},
   "outputs": [],
   "source": [
    "imdb_votes = [imdb[\"votes\"] for imdb in imdbs]"
   ]
  },
  {
   "cell_type": "code",
   "execution_count": 207,
   "metadata": {},
   "outputs": [],
   "source": [
    "all_movies = all_movies.drop(columns=\"imdb\")"
   ]
  },
  {
   "cell_type": "code",
   "execution_count": 216,
   "metadata": {},
   "outputs": [],
   "source": [
    "all_movies = pd.concat([all_movies, imdb_country_codes, imdb_language_codes], axis=1)"
   ]
  },
  {
   "cell_type": "code",
   "execution_count": 217,
   "metadata": {},
   "outputs": [],
   "source": [
    "all_movies[\"id\"] = imdb_ids\n",
    "all_movies[\"year\"] = imdb_years\n",
    "all_movies[\"runtime\"] = imdb_runtimes\n",
    "all_movies[\"color\"] = imdb_colors\n",
    "all_movies[\"imdb_rating\"] = imdb_rating\n",
    "all_movies[\"imdb_votes\"] = imdb_votes"
   ]
  },
  {
   "cell_type": "code",
   "execution_count": 229,
   "metadata": {},
   "outputs": [
    {
     "name": "stderr",
     "output_type": "stream",
     "text": [
      "/home/deadhead/.local/share/virtualenvs/filmspotting-2019-VAg7pNyZ/lib/python3.6/site-packages/ipykernel_launcher.py:3: FutureWarning: Sorting because non-concatenation axis is not aligned. A future version\n",
      "of pandas will change to not sort by default.\n",
      "\n",
      "To accept the future behavior, pass 'sort=False'.\n",
      "\n",
      "To retain the current behavior and silence the warning, pass 'sort=True'.\n",
      "\n",
      "  This is separate from the ipykernel package so we can avoid doing imports until\n"
     ]
    }
   ],
   "source": [
    "imdb_genres = pd.DataFrame(binner.fit_transform([imdb[\"genres\"] for imdb in imdbs]),\n",
    "            columns=[f\"genre.{class_}\" for class_ in binner.classes_])\n",
    "all_movies = pd.concat([all_movies, imdb_genres])"
   ]
  },
  {
   "cell_type": "code",
   "execution_count": 230,
   "metadata": {},
   "outputs": [],
   "source": [
    "all_movies.to_csv(\"../results/imdb_results.csv\", index=False)"
   ]
  },
  {
   "cell_type": "code",
   "execution_count": 233,
   "metadata": {},
   "outputs": [
    {
     "data": {
      "text/plain": [
       "['title',\n",
       " 'kind',\n",
       " 'year',\n",
       " 'cast',\n",
       " 'genres',\n",
       " 'runtimes',\n",
       " 'countries',\n",
       " 'country codes',\n",
       " 'language codes',\n",
       " 'color info',\n",
       " 'aspect ratio',\n",
       " 'sound mix',\n",
       " 'certificates',\n",
       " 'original air date',\n",
       " 'rating',\n",
       " 'votes',\n",
       " 'cover url',\n",
       " 'plot outline',\n",
       " 'languages',\n",
       " 'directors',\n",
       " 'writers',\n",
       " 'producers',\n",
       " 'cinematographers',\n",
       " 'editors',\n",
       " 'editorial department',\n",
       " 'casting directors',\n",
       " 'production designers',\n",
       " 'art directors',\n",
       " 'set decorators',\n",
       " 'costume designers',\n",
       " 'make up department',\n",
       " 'production managers',\n",
       " 'assistant directors',\n",
       " 'art department',\n",
       " 'sound department',\n",
       " 'special effects',\n",
       " 'stunts',\n",
       " 'camera department',\n",
       " 'animation department',\n",
       " 'casting department',\n",
       " 'costume departmen',\n",
       " 'location management',\n",
       " 'music department',\n",
       " 'transportation department',\n",
       " 'miscellaneous',\n",
       " 'thanks',\n",
       " 'akas',\n",
       " 'writer',\n",
       " 'director',\n",
       " 'top 250 rank',\n",
       " 'production companies',\n",
       " 'distributors',\n",
       " 'other companies',\n",
       " 'plot',\n",
       " 'synopsis',\n",
       " 'canonical title',\n",
       " 'long imdb title',\n",
       " 'long imdb canonical title',\n",
       " 'smart canonical title',\n",
       " 'smart long imdb canonical title',\n",
       " 'full-size cover url']"
      ]
     },
     "execution_count": 233,
     "metadata": {},
     "output_type": "execute_result"
    }
   ],
   "source": [
    "imdbs[0].keys()"
   ]
  }
 ],
 "metadata": {
  "kernelspec": {
   "display_name": "Python 3",
   "language": "python",
   "name": "python3"
  },
  "language_info": {
   "codemirror_mode": {
    "name": "ipython",
    "version": 3
   },
   "file_extension": ".py",
   "mimetype": "text/x-python",
   "name": "python",
   "nbconvert_exporter": "python",
   "pygments_lexer": "ipython3",
   "version": "3.6.7"
  }
 },
 "nbformat": 4,
 "nbformat_minor": 2
}
