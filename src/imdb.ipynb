{
 "cells": [
  {
   "cell_type": "code",
   "execution_count": 218,
   "metadata": {},
   "outputs": [],
   "source": [
    "from imdb import IMDb\n",
    "import pandas as pd\n",
    "import pickle\n",
    "from sklearn.preprocessing import OneHotEncoder"
   ]
  },
  {
   "cell_type": "code",
   "execution_count": 2,
   "metadata": {},
   "outputs": [],
   "source": [
    "ia = IMDb()"
   ]
  },
  {
   "cell_type": "code",
   "execution_count": 3,
   "metadata": {},
   "outputs": [],
   "source": [
    "def get_imdb(movie_name, ia):\n",
    "    movie_list = ia.search_movie(movie_name)\n",
    "    movie = movie_list[0]\n",
    "    ia.update(movie) \n",
    "    print(movie, \" - \", movie[\"year\"])\n",
    "    return movie"
   ]
  },
  {
   "cell_type": "code",
   "execution_count": 4,
   "metadata": {},
   "outputs": [],
   "source": [
    "df = pd.read_csv(\"../results/all-matches-with-seeds.csv\")"
   ]
  },
  {
   "cell_type": "code",
   "execution_count": 62,
   "metadata": {},
   "outputs": [],
   "source": [
    "all_movies = df[\"player_1_name\"].append(df[\"player_2_name\"]).unique()"
   ]
  },
  {
   "cell_type": "code",
   "execution_count": 64,
   "metadata": {},
   "outputs": [],
   "source": [
    "all_movies = all_movies.tolist()"
   ]
  },
  {
   "cell_type": "code",
   "execution_count": null,
   "metadata": {},
   "outputs": [],
   "source": [
    "populated_all_movies = dict()\n",
    "\n",
    "for "
   ]
  },
  {
   "cell_type": "code",
   "execution_count": 65,
   "metadata": {},
   "outputs": [
    {
     "name": "stdout",
     "output_type": "stream",
     "text": [
      "Pulp Fiction  -  1994\n",
      "Out of Sight  -  1998\n",
      "Goodfellas  -  1990\n",
      "Toy Story  -  1995\n",
      "Schindler's List  -  1993\n",
      "Fight Club  -  1999\n",
      "Chungking Express  -  1994\n",
      "Barton Fink  -  1991\n",
      "Jackie Brown  -  1997\n",
      "The Silence of the Lambs  -  1991\n",
      "Heat  -  1995\n",
      "Boogie Nights  -  1997\n",
      "Terminator 2: Judgment Day  -  1991\n",
      "Dazed and Confused  -  1993\n",
      "Malcolm X  -  1992\n",
      "The Big Lebowski  -  1998\n",
      "Groundhog Day  -  1993\n",
      "Miller's Crossing  -  1990\n",
      "Magnolia  -  1999\n",
      "Unforgiven  -  1992\n",
      "Being John Malkovich  -  1999\n",
      "Trainspotting  -  1996\n",
      "The Matrix  -  1999\n",
      "Hoop Dreams  -  1994\n",
      "Fargo  -  2014\n",
      "L.A. Confidential  -  1997\n",
      "Before Sunrise  -  1995\n",
      "Eyes Wide Shut  -  1999\n",
      "Rushmore  -  1998\n",
      "Reservoir Dogs  -  1992\n",
      "The Shawshank Redemption  -  1994\n",
      "Se7en  -  1995\n",
      "The Godfather  -  1972\n",
      "The Apartment  -  1960\n",
      "Taxi Driver  -  1976\n",
      "Citizen Kane  -  1941\n",
      "The Godfather: Part II  -  1974\n",
      "Alien  -  1979\n",
      "Mulholland Drive  -  2001\n",
      "Casablanca  -  1942\n",
      "Blue Velvet  -  1986\n",
      "Chinatown  -  1974\n",
      "Jaws  -  1975\n",
      "Raiders of the Lost Ark  -  1981\n",
      "2001: A Space Odyssey  -  1968\n",
      "Raging Bull  -  1980\n",
      "Apocalypse Now  -  1979\n",
      "Do the Right Thing  -  1989\n",
      "Back to the Future  -  1985\n",
      "Star Wars  -  1977\n",
      "One Flew Over the Cuckoo's Nest  -  1975\n",
      "Grave of the Fireflies  -  1988\n",
      "All the President's Men  -  1976\n",
      "Star Wars: Episode V - The Empire Strikes Back  -  1980\n",
      "Singin' in the Rain  -  1952\n",
      "Vertigo  -  1958\n",
      "The Shining  -  1980\n",
      "Annie Hall  -  1977\n",
      "Eternal Sunshine of the Spotless Mind  -  2004\n",
      "No Country for Old Men  -  2007\n",
      "Oz the Great and Powerful  -  2013\n",
      "Pan's Labyrinth  -  2006\n",
      "Kill Bill: Vol. 1  -  2003\n",
      "The Royal Tenenbaums  -  2001\n",
      "Almost Famous  -  2000\n",
      "Spirited Away  -  2001\n",
      "Punch-Drunk Love  -  2002\n",
      "Brokeback Mountain  -  2005\n",
      "Lost in Translation  -  2003\n",
      "Shaun of the Dead  -  2004\n",
      "Iron Man  -  2008\n",
      "Before Sunset  -  2004\n",
      "Fantastic Mr. Fox  -  2009\n",
      "There Will Be Blood  -  2007\n",
      "The New World  -  2005\n",
      "In the Mood for Love  -  2000\n",
      "Memento  -  2000\n",
      "Zodiac  -  2007\n",
      "The Prestige  -  2006\n",
      "Children of Men  -  2006\n",
      "Ratatouille  -  2007\n",
      "The Dark Knight  -  2008\n",
      "A Serious Man  -  2009\n",
      "WALL·E  -  2008\n",
      "The Departed  -  2006\n",
      "Inglourious Basterds  -  2009\n",
      "Minority Report  -  2002\n",
      "The Lord of the Rings: The Fellowship of the Ring  -  2001\n",
      "The Incredibles  -  2004\n",
      "A.I. Artificial Intelligence  -  2001\n",
      "Kill Bill: Vol. 2  -  2004\n",
      "The Lord of the Rings: The Return of the King  -  2003\n",
      "Wild at Heart  -  1990\n",
      "Saving Private Ryan  -  1998\n",
      "The Sixth Sense  -  1999\n",
      "The Iron Giant  -  1999\n",
      "Safe  -  2018\n",
      "Léon: The Professional  -  1994\n",
      "My Own Private Idaho  -  1991\n",
      "Princess Mononoke  -  1997\n",
      "Close-Up  -  1990\n",
      "The Lion King  -  2019\n",
      "JFK  -  1991\n",
      "The Player  -  1992\n",
      "Naked  -  1993\n",
      "Three Colors: Blue  -  1993\n",
      "The Truman Show  -  1998\n",
      "Edward Scissorhands  -  1990\n",
      "There's Something About Mary  -  1998\n",
      "Jurassic Park  -  1993\n",
      "All About My Mother  -  1999\n",
      "Office Space  -  1999\n",
      "Metropolitan  -  1990\n",
      "Clueless  -  1995\n",
      "The Blair Witch Project  -  1999\n",
      "The Thin Red Line  -  1998\n",
      "Dead Man  -  1995\n",
      "Glengarry Glen Ross  -  1992\n",
      "The Insider  -  1999\n",
      "The Piano  -  1993\n",
      "The Sweet Hereafter  -  1997\n",
      "The Usual Suspects  -  1995\n",
      "Boyz n the Hood  -  1991\n",
      "Starship Troopers  -  1997\n",
      "Young Frankenstein  -  1974\n",
      "The Tree of Life  -  2011\n",
      "Midnight Run  -  1988\n",
      "The Royal Tenenbaums  -  2001\n",
      "The Red Shoes  -  1948\n",
      "Born on the Fourth of July  -  1989\n",
      "Die Hard  -  1988\n",
      "Batman  -  1989\n",
      "The Exorcist  -  1973\n",
      "To Kill a Mockingbird  -  1962\n",
      "Dog Day Afternoon  -  1975\n",
      "In America  -  2002\n",
      "The Breakfast Club  -  1985\n",
      "Close Encounters of the Third Kind  -  1977\n",
      "The Master  -  2012\n",
      "Cool Hand Luke  -  1967\n",
      "Rio Bravo  -  1959\n",
      "The Evil Dead  -  1981\n",
      "Pather Panchali  -  1955\n",
      "A Nightmare on Elm Street  -  1984\n",
      "Au Hasard Balthazar  -  1966\n",
      "Say Anything...  -  1989\n",
      "The Wizard of Oz  -  1939\n",
      "Dead Poets Society  -  1989\n",
      "The Umbrellas of Cherbourg  -  1964\n",
      "Moon  -  2009\n",
      "Requiem for a Dream  -  2000\n",
      "Grizzly Man  -  2005\n",
      "Dancer in the Dark  -  2000\n",
      "25th Hour  -  2002\n",
      "The 40 Year Old Virgin  -  2005\n",
      "The Squid and the Whale  -  2005\n",
      "Synecdoche, New York  -  2008\n",
      "Elephant  -  2003\n",
      "Finding Nemo  -  2003\n",
      "Beau travail  -  1999\n",
      "The Hurt Locker  -  2008\n",
      "American Psycho  -  2000\n",
      "Wo hu  -  2006\n",
      "Adaptation.  -  2002\n",
      "4 Months, 3 Weeks and 2 Days  -  2007\n",
      "Atonement  -  2007\n",
      "Amélie  -  2001\n",
      "The Golden Child  -  1986\n",
      "Caché  -  2005\n",
      "Wendy and Lucy  -  2008\n",
      "Hot Fuzz  -  2007\n",
      "Let the Right One In  -  2008\n",
      "In Bruges  -  2008\n",
      "The Assassination of Jesse James by the Coward Robert Ford  -  2007\n",
      "Unbreakable  -  2000\n",
      "Talk to Her  -  2002\n",
      "Y Tu Mamá También  -  2001\n",
      "A History of Violence  -  2005\n",
      "Oldboy  -  2003\n",
      "City of God  -  2002\n",
      "Yi Yi  -  2000\n",
      "Ocean's Eleven  -  2001\n",
      "Once  -  2007\n",
      "Donnie Darko  -  2001\n",
      "Anchorman: The Legend of Ron Burgundy  -  2004\n",
      "Primer  -  2004\n",
      "Away from Her  -  2006\n",
      "The Fog of War: Eleven Lessons from the Life of Robert S. McNamara  -  2003\n",
      "Collateral  -  2004\n"
     ]
    }
   ],
   "source": [
    "populated_all_movies = {title: get_imdb(title, ia) for title in all_movies}"
   ]
  },
  {
   "cell_type": "code",
   "execution_count": 92,
   "metadata": {},
   "outputs": [
    {
     "data": {
      "text/plain": [
       "{'Pulp Fiction': '0110912',\n",
       " 'Out of Sight': '0120780',\n",
       " 'Goodfellas': '0099685',\n",
       " 'Toy Story': '0114709',\n",
       " \"Schindler's List\": '0108052',\n",
       " 'Fight Club': '0137523',\n",
       " 'Chungking Express': '0109424',\n",
       " 'Barton Fink': '0101410',\n",
       " 'Jackie Brown': '0119396',\n",
       " 'The Silence of the Lambs': '0102926',\n",
       " 'Heat': '0113277',\n",
       " 'Boogie Nights': '0118749',\n",
       " 'Terminator 2: Judgment Day': '0103064',\n",
       " 'Dazed and Confused': '0106677',\n",
       " 'Malcolm X': '0104797',\n",
       " 'The Big Lebowski': '0118715',\n",
       " 'Groundhog Day': '0107048',\n",
       " \"Miller's Crossing\": '0100150',\n",
       " 'Magnolia': '0175880',\n",
       " 'Unforgiven': '0105695',\n",
       " 'Being John Malkovich': '0120601',\n",
       " 'Trainspotting': '0117951',\n",
       " 'The Matrix': '0133093',\n",
       " 'Hoop Dreams': '0110057',\n",
       " 'Fargo': '0116282',\n",
       " 'L. A. Confidential': '0119488',\n",
       " 'Before Sunrise': '0112471',\n",
       " 'Eyes Wide Shut': '0120663',\n",
       " 'Rushmore': '0128445',\n",
       " 'Reservoir Dogs': '0105236',\n",
       " 'The Shawshank Redemption': '0111161',\n",
       " 'Se7en': '0114369',\n",
       " 'The Godfather': '0068646',\n",
       " 'The Apartment': '0053604',\n",
       " 'Taxi Driver': '0075314',\n",
       " 'Citizen Kane': '0033467',\n",
       " 'The Godfather: Part II': '0071562',\n",
       " 'Alien': '0078748',\n",
       " 'Mulholland Dr.': '0166924',\n",
       " 'Casablanca': '0034583',\n",
       " 'Blue Velvet': '0090756',\n",
       " 'Chinatown': '0071315',\n",
       " 'Jaws': '0073195',\n",
       " 'Raiders of the Lost Ark': '0082971',\n",
       " '2001: A Space Odyssey': '0062622',\n",
       " 'Raging Bull': '0081398',\n",
       " 'Apocalypse Now': '0078788',\n",
       " 'Do The Right Thing': '0097216',\n",
       " 'Back to the Future': '0088763',\n",
       " 'Star Wars': '0076759',\n",
       " \"One Flew Over the Cuckoo's Nest\": '0073486',\n",
       " 'Grave of the Fireflies': '0095327',\n",
       " \"All The President's Men\": '0074119',\n",
       " 'The Empire Strikes Back': '0080684',\n",
       " \"Singin' in the Rain\": '0045152',\n",
       " 'Vertigo': '0052357',\n",
       " 'The Shining': '0081505',\n",
       " 'Annie Hall': '0075686',\n",
       " 'Eternal Sunshine of the Spotless Mind': '0338013',\n",
       " 'No Country For Old Men': '0477348',\n",
       " 'Brick': '0393109',\n",
       " \"Pan's Labyrinth\": '0457430',\n",
       " 'Kill Bill Vol. 1': '0266697',\n",
       " 'The Royal Tenenbaums': '0265666',\n",
       " 'Almost Famous': '0181875',\n",
       " 'Spirited Away': '0245429',\n",
       " 'Punch-Drunk Love': '0272338',\n",
       " 'Brokeback Mountain': '0388795',\n",
       " 'Lost In Translation': '0335266',\n",
       " 'Shaun of the Dead': '0365748',\n",
       " 'Iron Man': '0371746',\n",
       " 'Before Sunset': '0381681',\n",
       " 'Fantastic Mr. Fox': '0432283',\n",
       " 'There Will Be Blood': '0469494',\n",
       " 'The New World': '0402399',\n",
       " 'In the Mood for Love': '0118694',\n",
       " 'Memento': '0209144',\n",
       " 'Zodiac': '0443706',\n",
       " 'The Prestige': '0482571',\n",
       " 'Children of Men': '0206634',\n",
       " 'Ratatouille': '0382932',\n",
       " 'The Dark Knight': '0468569',\n",
       " 'A Serious Man': '1019452',\n",
       " 'WALL-E': '0910970',\n",
       " 'The Departed': '0407887',\n",
       " 'Inglourious Basterds': '0361748',\n",
       " 'Minority Report': '0181689',\n",
       " 'Fellowship of the Ring': '0120737',\n",
       " 'The Incredibles': '0317705',\n",
       " 'A.I. Artificial Intelligence': '0212720',\n",
       " 'Kill Bill Vol. 2': '0378194',\n",
       " 'The Return of the King': '0167260',\n",
       " 'Wild at Heart': '0100935',\n",
       " 'Saving Private Ryan': '0120815',\n",
       " 'The Sixth Sense': '0167404',\n",
       " 'The Iron Giant': '0129167',\n",
       " 'Safe': '0114323',\n",
       " 'Leon: The Professional': '0110413',\n",
       " 'My Own Private Idaho': '0102494',\n",
       " 'Princess Mononoke': '0119698',\n",
       " 'Close-Up': '0100234',\n",
       " 'The Lion King': '0110357',\n",
       " 'JFK': '0102138',\n",
       " 'The Player': '0105151',\n",
       " 'Naked': '0107653',\n",
       " 'Blue': '0108394',\n",
       " 'The Truman Show': '0120382',\n",
       " 'Edward Scissorhands': '0099487',\n",
       " \"There's Something About Mary\": '0129387',\n",
       " 'Jurassic Park': '0107290',\n",
       " 'All About My Mother': '0185125',\n",
       " 'Office Space': '0151804',\n",
       " 'Metropolitan': '0100142',\n",
       " 'Clueless': '0112697',\n",
       " 'The Blair Witch Project': '0185937',\n",
       " 'The Thin Red Line': '0120863',\n",
       " 'Dead Man': '0112817',\n",
       " 'Glengarry Glen Ross': '0104348',\n",
       " 'The Insider': '0140352',\n",
       " 'The Piano': '0107822',\n",
       " 'The Sweet Hereafter': '0120255',\n",
       " 'The Usual Suspects': '0114814',\n",
       " 'Boyz N the Hood': '0101507',\n",
       " 'Starship Troopers': '0120201',\n",
       " 'Young Frankenstein': '0072431',\n",
       " 'The Tree of Life': '0478304',\n",
       " 'Midnight Run': '0095631',\n",
       " 'The Royal Tenebaums': '0265666',\n",
       " 'The Red Shoes': '0040725',\n",
       " 'Born on the Fourth of July': '0096969',\n",
       " 'Die Hard': '0095016',\n",
       " 'Batman': '0096895',\n",
       " 'The Exorcist': '0070047',\n",
       " 'To Kill A Mockingbird': '0056592',\n",
       " 'Dog Day Afternoon': '0072890',\n",
       " 'In America': '0298845',\n",
       " 'The Breakfast Club': '0088847',\n",
       " 'Close Encounters of the Third Kind': '0075860',\n",
       " 'The Master': '1560747',\n",
       " 'Cool Hand Luke': '0061512',\n",
       " 'Rio Bravo': '0053221',\n",
       " 'The Evil Dead': '0083907',\n",
       " 'Pather Panchali': '0048473',\n",
       " 'A Nightmare on Elm Street': '0087800',\n",
       " 'Au Hasard Balthazar': '0060138',\n",
       " 'Say Anything...': '0098258',\n",
       " 'The Wizard Of Oz': '0032138',\n",
       " 'Dead Poets Society': '0097165',\n",
       " 'The Umbrellas of Cherbourg': '0058450',\n",
       " 'Moon': '1182345',\n",
       " 'Requiem For a Dream': '0180093',\n",
       " 'Grizzly Man': '0427312',\n",
       " 'Dancer in the Dark': '0168629',\n",
       " '25th Hour': '0307901',\n",
       " '40-Year-Old Virgin': '0405422',\n",
       " 'Squid and the Whale': '0367089',\n",
       " 'Synecdoche New York': '0383028',\n",
       " 'Elephant': '0363589',\n",
       " 'Finding Nemo': '0266543',\n",
       " 'Beau Travail': '0209933',\n",
       " 'The Hurt Locker': '0887912',\n",
       " 'American Psycho': '0144084',\n",
       " 'Crouching Tiger': '0190332',\n",
       " 'Adaptation': '0268126',\n",
       " '4 Months, 3 Weeks, 2 Days': '1032846',\n",
       " 'Atonement': '0783233',\n",
       " 'Amelie': '0211915',\n",
       " \"L'Enfant (The Child)\": '0456396',\n",
       " 'Cache': '0387898',\n",
       " 'Wendy and Lucy': '1152850',\n",
       " 'Hot Fuzz': '0425112',\n",
       " 'Let The Right One In': '1139797',\n",
       " 'In Bruges': '0780536',\n",
       " 'The Assassination of Jesse James by the Coward Robert Ford': '0443680',\n",
       " 'Unbreakable': '0217869',\n",
       " 'Talk to Her': '0287467',\n",
       " 'Y Tu Mamá También': '0245574',\n",
       " 'A History of Violence': '0399146',\n",
       " 'Oldboy': '0364569',\n",
       " 'City of God': '0317248',\n",
       " 'Yi Yi': '0244316',\n",
       " \"Ocean's Eleven\": '0240772',\n",
       " 'Once': '0907657',\n",
       " 'Donnie Darko': '0246578',\n",
       " 'Anchorman': '0357413',\n",
       " 'Primer': '0390384',\n",
       " 'Away From Her': '0491747',\n",
       " 'The Fog of War': '0317910',\n",
       " 'Collateral': '0369339',\n",
       " 'title': '0110912'}"
      ]
     },
     "execution_count": 92,
     "metadata": {},
     "output_type": "execute_result"
    }
   ],
   "source": [
    "get_imdb(title, ia)"
   ]
  },
  {
   "cell_type": "code",
   "execution_count": 79,
   "metadata": {},
   "outputs": [
    {
     "data": {
      "text/plain": [
       "[<Movie id:0091129[http] title:_The Golden Child (1986)_>,\n",
       " <Movie id:0097981[http] title:_A Nightmare on Elm Street 5: The Dream Child (1989)_>,\n",
       " <Movie id:0456396[http] title:_L'enfant (2005)_>,\n",
       " <Movie id:0163983[http] title:_Bless the Child (2000)_>,\n",
       " <Movie id:0064285[http] title:_The Wild Child (1970)_>,\n",
       " <Movie id:0273822[http] title:_Mockingbird Don't Sing (2001)_>,\n",
       " <Movie id:0415965[http] title:_Martian Child (2007)_>,\n",
       " <Movie id:0103955[http] title:_Child of Rage (1992) (TV)_>,\n",
       " <Movie id:0756648[http] title:_The Fox & the Child (2007)_>,\n",
       " <Movie id:2216856[http] title:_The Hidden Child (2013)_>,\n",
       " <Movie id:0112961[http] title:_L'enfant d'eau (1995)_>,\n",
       " <Movie id:0073367[http] title:_Together Forever (1975)_>,\n",
       " <Movie id:0172606[http] title:_Invisible Child (1999) (TV)_>,\n",
       " <Movie id:0075838[http] title:_The Child (1977)_>,\n",
       " <Movie id:0090665[http] title:_Halfaouine: Boy of the Terraces (1990)_>,\n",
       " <Movie id:0112962[http] title:_L'enfant noir (1995)_>,\n",
       " <Movie id:0097278[http] title:_Winter's Child (1989)_>,\n",
       " <Movie id:1286798[http] title:_Unmistaken Child (2008)_>,\n",
       " <Movie id:0084803[http] title:_Tomorrow's Child (1982) (TV)_>,\n",
       " <Movie id:0106943[http] title:_For the Love of My Child: The Anissa Ayala Story (1993) (TV)_>]"
      ]
     },
     "execution_count": 79,
     "metadata": {},
     "output_type": "execute_result"
    }
   ],
   "source": [
    "ia.search_movie(\"L'Enfant (The Child)\")"
   ]
  },
  {
   "cell_type": "code",
   "execution_count": 68,
   "metadata": {},
   "outputs": [],
   "source": [
    "fargo = ia.search_movie(\"Fargo\")[1]\n",
    "ia.update(fargo)\n",
    "\n",
    "populated_all_movies[\"Fargo\"] = fargo"
   ]
  },
  {
   "cell_type": "code",
   "execution_count": 71,
   "metadata": {},
   "outputs": [],
   "source": [
    "safe = ia.search_movie(\"Safe\")[2]\n",
    "ia.update(safe)\n",
    "\n",
    "populated_all_movies[\"Safe\"] = safe"
   ]
  },
  {
   "cell_type": "code",
   "execution_count": 74,
   "metadata": {},
   "outputs": [],
   "source": [
    "lion_king = ia.search_movie(\"The Lion King\")[1]\n",
    "ia.update(lion_king)\n",
    "populated_all_movies[\"The Lion King\"] = lion_king"
   ]
  },
  {
   "cell_type": "code",
   "execution_count": 76,
   "metadata": {},
   "outputs": [],
   "source": [
    "brick = ia.search_movie(\"Brick\")[1]\n",
    "ia.update(brick)\n",
    "populated_all_movies[\"Brick\"] = brick"
   ]
  },
  {
   "cell_type": "code",
   "execution_count": 78,
   "metadata": {},
   "outputs": [],
   "source": [
    "crouching_tiger = ia.search_movie(\"Crouching Tiger\")[1]\n",
    "ia.update(crouching_tiger)\n",
    "populated_all_movies[\"Crouching Tiger\"] = crouching_tiger"
   ]
  },
  {
   "cell_type": "code",
   "execution_count": 80,
   "metadata": {},
   "outputs": [],
   "source": [
    "the_child = ia.search_movie(\"L'Enfant (The Child)\")[2]\n",
    "ia.update(the_child)\n",
    "\n",
    "populated_all_movies[\"L'Enfant (The Child)\"] = the_child"
   ]
  },
  {
   "cell_type": "code",
   "execution_count": 103,
   "metadata": {},
   "outputs": [],
   "source": [
    "with open(\"../results/imdb_list.pkl\", \"wb+\") as imdb_list:\n",
    "    pickle.dump(populated_all_movies, imdb_list)"
   ]
  },
  {
   "cell_type": "code",
   "execution_count": 97,
   "metadata": {},
   "outputs": [],
   "source": [
    "with open(\"../results/imdb_list.pkl\", \"rb\") as imdb_list:\n",
    "    populated_all_movies = pickle.load(imdb_list)"
   ]
  },
  {
   "cell_type": "code",
   "execution_count": 98,
   "metadata": {},
   "outputs": [
    {
     "data": {
      "text/plain": [
       "<Movie id:0456396[http] title:_L'enfant (2005)_>"
      ]
     },
     "execution_count": 98,
     "metadata": {},
     "output_type": "execute_result"
    }
   ],
   "source": [
    "populated_all_movies[\"L'Enfant (The Child)\"]"
   ]
  },
  {
   "cell_type": "code",
   "execution_count": 101,
   "metadata": {},
   "outputs": [],
   "source": [
    "for title in populated_all_movies:\n",
    "    populated_all_movies[title][\"year\"] = populated_all_movies[title]"
   ]
  },
  {
   "cell_type": "code",
   "execution_count": 109,
   "metadata": {},
   "outputs": [],
   "source": [
    "for imdb in populated_all_movies.values():\n",
    "    imdb[\"year\"] = imdb[\"data\"][\"year\"]"
   ]
  },
  {
   "cell_type": "code",
   "execution_count": 113,
   "metadata": {},
   "outputs": [],
   "source": [
    "for imdb in populated_all_movies.values():\n",
    "    imdb[\"runtimes\"] = int(imdb[\"data\"][\"runtimes\"][0])"
   ]
  },
  {
   "cell_type": "code",
   "execution_count": 114,
   "metadata": {},
   "outputs": [],
   "source": [
    "for imdb in populated_all_movies.values():\n",
    "    imdb[\"imdb_id\"] = imdb[\"data\"].getID()"
   ]
  },
  {
   "cell_type": "code",
   "execution_count": 235,
   "metadata": {},
   "outputs": [],
   "source": [
    "from sklearn.preprocessing import MultiLabelBinarizer\n",
    "binner = MultiLabelBinarizer()\n",
    "onehot = OneHotEncoder(sparse = True)"
   ]
  },
  {
   "cell_type": "code",
   "execution_count": 146,
   "metadata": {},
   "outputs": [],
   "source": [
    "imdb_country_codes = pd.DataFrame(binner.fit_transform([imdb[\"data\"][\"country codes\"] for imdb in populated_all_movies.values()]),\n",
    "            columns=[f\"cc.{class_}\" for class_ in binner.classes_])\n",
    "imdb_country_codes[\"cc.other\"] = imdb_country_codes.loc[:,imdb_country_codes.sum() < 3].sum(axis=1)\n",
    "imdb_country_codes = imdb_country_codes.loc[:,imdb_country_codes.sum() >= 3]"
   ]
  },
  {
   "cell_type": "code",
   "execution_count": 192,
   "metadata": {},
   "outputs": [],
   "source": [
    "imdb_language_codes = pd.DataFrame(binner.fit_transform([imdb[\"data\"][\"language codes\"] for imdb in populated_all_movies.values()]),\n",
    "            columns=[f\"lc.{class_}\" for class_ in binner.classes_])\n",
    "imdb_language_codes[\"lc.other\"] = imdb_language_codes.loc[:,imdb_language_codes.sum() < 3].sum(axis=1)\n",
    "imdb_language_codes = imdb_language_codes.loc[:,imdb_language_codes.sum() >= 3]"
   ]
  },
  {
   "cell_type": "code",
   "execution_count": 154,
   "metadata": {},
   "outputs": [],
   "source": [
    "imdb_genres = pd.DataFrame(binner.fit_transform([imdb[\"data\"][\"genres\"][:] for imdb in populated_all_movies.values()]),\n",
    "            columns=[f\"genre.{class_}\" for class_ in binner.classes_])"
   ]
  },
  {
   "cell_type": "code",
   "execution_count": 189,
   "metadata": {},
   "outputs": [],
   "source": [
    "directors_list = []\n",
    "for imdb in populated_all_movies.values():\n",
    "    directors = imdb[\"data\"][\"directors\"]\n",
    "    movie_directors = []\n",
    "    for director in directors:\n",
    "        movie_directors.append(director[\"name\"])\n",
    "    directors_list.append(movie_directors)"
   ]
  },
  {
   "cell_type": "code",
   "execution_count": 193,
   "metadata": {},
   "outputs": [],
   "source": [
    "imdb_directors = pd.DataFrame(binner.fit_transform(directors_list),\n",
    "            columns=[f\"director.{class_}\" for class_ in binner.classes_])\n",
    "imdb_directors[\"director.other\"] = imdb_directors.loc[:,imdb_directors.sum() < 3].sum(axis=1)\n",
    "imdb_directors = imdb_directors.loc[:,imdb_directors.sum() >= 3]"
   ]
  },
  {
   "cell_type": "code",
   "execution_count": 195,
   "metadata": {},
   "outputs": [],
   "source": [
    "actors_list = []\n",
    "for imdb in populated_all_movies.values():\n",
    "    actors = imdb[\"data\"][\"actors\"]\n",
    "    movie_actors = []\n",
    "    for actor in actors[:5]:\n",
    "        movie_actors.append(actor[\"name\"])\n",
    "    actors_list.append(movie_actors)\n",
    "\n",
    "imdb_actors = pd.DataFrame(binner.fit_transform(actors_list),\n",
    "            columns=[f\"actor.{class_}\" for class_ in binner.classes_])\n",
    "imdb_actors[\"actor.other\"] = imdb_actors.loc[:,imdb_actors.sum() < 3].sum(axis=1)\n",
    "imdb_actors = imdb_actors.loc[:,imdb_actors.sum() >= 3]"
   ]
  },
  {
   "cell_type": "code",
   "execution_count": 198,
   "metadata": {},
   "outputs": [],
   "source": [
    "for imdb in populated_all_movies.values():\n",
    "    imdb[\"color\"] = 1 if imdb[\"data\"][\"color info\"][0].split(\"::\")[0] == \"Color\" else 0\n"
   ]
  },
  {
   "cell_type": "code",
   "execution_count": 225,
   "metadata": {},
   "outputs": [
    {
     "data": {
      "text/plain": [
       "[]"
      ]
     },
     "execution_count": 225,
     "metadata": {},
     "output_type": "execute_result"
    }
   ],
   "source": [
    "for imdb in populated_all_movies.values():\n",
    "    for certificate in imdb[\"data\"][\"certificate\"]:\n",
    "        if \"United States\" in certificate and \"TV\" not in certificate:\n",
    "            imdb[\"mpaa_rating\"] = certificate.split(\":\")[1]\n",
    "            break\n"
   ]
  },
  {
   "cell_type": "code",
   "execution_count": 202,
   "metadata": {},
   "outputs": [],
   "source": [
    "for imdb in populated_all_movies.values():\n",
    "    imdb[\"rating\"] = imdb[\"data\"][\"rating\"]"
   ]
  },
  {
   "cell_type": "code",
   "execution_count": 203,
   "metadata": {},
   "outputs": [],
   "source": [
    "for imdb in populated_all_movies.values():\n",
    "    imdb[\"votes\"] = imdb[\"data\"][\"votes\"]"
   ]
  },
  {
   "cell_type": "code",
   "execution_count": 205,
   "metadata": {},
   "outputs": [],
   "source": [
    "with open(\"../results/populated_imdb_list.pkl\", \"wb+\") as imdb_list:\n",
    "    pickle.dump(populated_all_movies, imdb_list)"
   ]
  },
  {
   "cell_type": "code",
   "execution_count": 206,
   "metadata": {},
   "outputs": [],
   "source": [
    "for imdb in populated_all_movies.values():\n",
    "    del imdb[\"data\"]"
   ]
  },
  {
   "cell_type": "code",
   "execution_count": 208,
   "metadata": {},
   "outputs": [],
   "source": [
    "for title, imdb in populated_all_movies.items():\n",
    "    imdb[\"title\"] = title"
   ]
  },
  {
   "cell_type": "code",
   "execution_count": 210,
   "metadata": {},
   "outputs": [],
   "source": [
    "df = pd.DataFrame(populated_all_movies.values())"
   ]
  },
  {
   "cell_type": "code",
   "execution_count": 212,
   "metadata": {},
   "outputs": [],
   "source": [
    "all_movies = pd.concat([df, imdb_country_codes, imdb_language_codes, imdb_genres, imdb_directors, imdb_actors], axis=1)"
   ]
  },
  {
   "cell_type": "code",
   "execution_count": 247,
   "metadata": {},
   "outputs": [],
   "source": [
    "#Forgot to OneHotEncode MPAA\n",
    "\n",
    "imdb_mpaa = pd.DataFrame(onehot.fit_transform(all_movies[\"mpaa_rating\"].values.reshape(-1, 1)).todense(),\n",
    "             columns=[f\"mpaa.{categories_}\" for categories_ in onehot.categories_[0]])\n",
    "imdb_mpaa[\"mpaa.other\"] = imdb_mpaa.loc[:,imdb_mpaa.sum() < 3].sum(axis=1)\n",
    "imdb_mpaa = imdb_mpaa.loc[:,imdb_mpaa.sum() >= 3]"
   ]
  },
  {
   "cell_type": "code",
   "execution_count": 250,
   "metadata": {},
   "outputs": [],
   "source": [
    "all_movies = all_movies.drop(columns=[\"mpaa_rating\"])"
   ]
  },
  {
   "cell_type": "code",
   "execution_count": 253,
   "metadata": {},
   "outputs": [],
   "source": [
    "all_movies = pd.concat([all_movies, imdb_mpaa], axis=1)"
   ]
  },
  {
   "cell_type": "code",
   "execution_count": 254,
   "metadata": {},
   "outputs": [],
   "source": [
    "all_movies.to_csv(\"../results/imdb_results-with-directors.csv\", index=False)"
   ]
  },
  {
   "cell_type": "code",
   "execution_count": null,
   "metadata": {},
   "outputs": [],
   "source": []
  }
 ],
 "metadata": {
  "kernelspec": {
   "display_name": "Python 3",
   "language": "python",
   "name": "python3"
  },
  "language_info": {
   "codemirror_mode": {
    "name": "ipython",
    "version": 3
   },
   "file_extension": ".py",
   "mimetype": "text/x-python",
   "name": "python",
   "nbconvert_exporter": "python",
   "pygments_lexer": "ipython3",
   "version": "3.6.7"
  }
 },
 "nbformat": 4,
 "nbformat_minor": 2
}
