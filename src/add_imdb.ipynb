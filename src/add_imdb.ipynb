{
 "cells": [
  {
   "cell_type": "code",
   "execution_count": 51,
   "metadata": {},
   "outputs": [],
   "source": [
    "import pandas as pd\n",
    "from sklearn.model_selection import cross_val_score, RepeatedKFold, cross_val_predict\n",
    "import numpy as np\n",
    "\n",
    "from xgboost import XGBRegressor"
   ]
  },
  {
   "cell_type": "code",
   "execution_count": 73,
   "metadata": {},
   "outputs": [],
   "source": [
    "train_x = pd.read_csv(\"../results/train_x.csv\")\n",
    "train_y = pd.read_csv(\"../results/train_y.csv\")\n",
    "imdb_info = pd.read_csv(\"../results/imdb_results.csv\")"
   ]
  },
  {
   "cell_type": "code",
   "execution_count": 74,
   "metadata": {},
   "outputs": [],
   "source": [
    "all_info = train_x.merge(imdb_info, left_on=\"player_1_name\", right_on=\"Movie\", how = \"left\")"
   ]
  },
  {
   "cell_type": "code",
   "execution_count": 75,
   "metadata": {},
   "outputs": [],
   "source": [
    "all_info = all_info.merge(imdb_info, left_on=\"player_2_name\", right_on=\"Movie\", suffixes = (\"_player1\", \"_player2\"), how=\"left\")"
   ]
  },
  {
   "cell_type": "code",
   "execution_count": 76,
   "metadata": {},
   "outputs": [],
   "source": [
    "all_info = all_info.drop(columns=[\"player_1_name\", \"player_2_name\", \"Movie_player1\", \"Movie_player2\", \"id_player1\", \"id_player2\"])"
   ]
  },
  {
   "cell_type": "code",
   "execution_count": 78,
   "metadata": {},
   "outputs": [
    {
     "data": {
      "text/plain": [
       "19.71948771900352"
      ]
     },
     "execution_count": 78,
     "metadata": {},
     "output_type": "execute_result"
    }
   ],
   "source": [
    "xgb_model = XGBRegressor(n_estimators=500)\n",
    "\n",
    "results = cross_val_score(xgb_model, \n",
    "                 X = all_info,\n",
    "                 y = train_y[\"plus_minus\"],\n",
    "                 scoring=\"neg_mean_squared_error\",\n",
    "                 cv=RepeatedKFold()\n",
    "               )\n",
    "np.sqrt(abs(results)).mean()"
   ]
  },
  {
   "cell_type": "code",
   "execution_count": 79,
   "metadata": {},
   "outputs": [],
   "source": [
    "results = cross_val_predict(xgb_model, \n",
    "                 X = all_info,\n",
    "                 y = train_y[\"plus_minus\"],\n",
    "                 cv=5\n",
    "               )"
   ]
  },
  {
   "cell_type": "code",
   "execution_count": 80,
   "metadata": {},
   "outputs": [],
   "source": [
    "train_y[\"predicted\"] = results"
   ]
  },
  {
   "cell_type": "code",
   "execution_count": 81,
   "metadata": {},
   "outputs": [],
   "source": [
    "train_y[\"correct\"] = np.sign(train_y[\"plus_minus\"]) * np.sign(train_y[\"predicted\"])"
   ]
  },
  {
   "cell_type": "code",
   "execution_count": 82,
   "metadata": {},
   "outputs": [],
   "source": [
    "train_y.loc[train_y[\"correct\"] == -1, :].to_csv(\"../results/mistakes1.1.csv\", index = False)"
   ]
  },
  {
   "cell_type": "code",
   "execution_count": 83,
   "metadata": {},
   "outputs": [],
   "source": [
    "train_y.to_csv(\"../results/gen_1.1_model.csv\", index = False)"
   ]
  }
 ],
 "metadata": {
  "kernelspec": {
   "display_name": "Python 3",
   "language": "python",
   "name": "python3"
  },
  "language_info": {
   "codemirror_mode": {
    "name": "ipython",
    "version": 3
   },
   "file_extension": ".py",
   "mimetype": "text/x-python",
   "name": "python",
   "nbconvert_exporter": "python",
   "pygments_lexer": "ipython3",
   "version": "3.6.7"
  }
 },
 "nbformat": 4,
 "nbformat_minor": 2
}
